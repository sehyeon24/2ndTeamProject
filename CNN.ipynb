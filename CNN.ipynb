{
 "cells": [
  {
   "cell_type": "code",
   "execution_count": 1,
   "id": "393d47fd",
   "metadata": {},
   "outputs": [
    {
     "data": {
      "text/html": [
       "\n",
       "<style>\n",
       "div.container{width:80% !important;}\n",
       "div.prompt {min-width:70px;}\n",
       "div#toc-header{margin-top:150px;}\n",
       "span.toc-item-num{display:none;}\n",
       "div.CodeMirror {font-family:Consolas}\n",
       "div.input {font-family:Consolas}\n",
       "</style>\n"
      ],
      "text/plain": [
       "<IPython.core.display.HTML object>"
      ]
     },
     "metadata": {},
     "output_type": "display_data"
    }
   ],
   "source": [
    "from IPython.display import display, HTML\n",
    "display(HTML(\"\"\"\n",
    "<style>\n",
    "div.container{width:80% !important;}\n",
    "div.prompt {min-width:70px;}\n",
    "div#toc-header{margin-top:150px;}\n",
    "span.toc-item-num{display:none;}\n",
    "div.CodeMirror {font-family:Consolas}\n",
    "div.input {font-family:Consolas}\n",
    "</style>\n",
    "\"\"\"))"
   ]
  },
  {
   "cell_type": "markdown",
   "id": "950a9e0a",
   "metadata": {},
   "source": [
    "# import / GPU 메모리 정리"
   ]
  },
  {
   "cell_type": "code",
   "execution_count": 1,
   "id": "60514e58",
   "metadata": {},
   "outputs": [],
   "source": [
    "import pandas as pd \n",
    "import numpy as np\n",
    "import os\n",
    "import torch\n",
    "from PIL import Image\n",
    "import tensorflow as tf\n",
    "import matplotlib.pyplot as plt\n",
    "from sklearn.preprocessing import LabelEncoder , OneHotEncoder\n",
    "from sklearn.model_selection import train_test_split\n",
    "from tensorflow.keras.models import Sequential\n",
    "from tensorflow.keras.layers import Conv2D, MaxPooling2D, Flatten, Dense, Dropout, Input, AvgPool2D, Flatten, BatchNormalization, GlobalAveragePooling2D\n",
    "from tensorflow.keras.utils import to_categorical\n",
    "from tensorflow.keras.callbacks import EarlyStopping, Callback\n",
    "from tensorflow.keras.models import load_model\n",
    "from tensorflow.keras.applications import VGG16\n",
    "from tensorflow.keras.optimizers import Adam\n",
    "from tensorflow.keras.initializers import GlorotNormal\n",
    "from tensorflow.keras.preprocessing.image import ImageDataGenerator"
   ]
  },
  {
   "cell_type": "code",
   "execution_count": 2,
   "id": "4703b7cb",
   "metadata": {},
   "outputs": [],
   "source": [
    "# GPU 메모리를 점진적으로 할당하도록 설정\n",
    "gpus = tf.config.experimental.list_physical_devices('GPU')\n",
    "if gpus:\n",
    "    try:\n",
    "        for gpu in gpus:\n",
    "            tf.config.experimental.set_memory_growth(gpu, True)\n",
    "    except RuntimeError as e:\n",
    "        print(e)"
   ]
  },
  {
   "cell_type": "code",
   "execution_count": 3,
   "id": "a52f0684",
   "metadata": {},
   "outputs": [],
   "source": [
    "torch.cuda.empty_cache()  # GPU 메모리 정리"
   ]
  },
  {
   "cell_type": "markdown",
   "id": "ce7031fb",
   "metadata": {},
   "source": [
    "# 이미지, csv 불러오기 "
   ]
  },
  {
   "cell_type": "code",
   "execution_count": 4,
   "id": "d404822d",
   "metadata": {},
   "outputs": [],
   "source": [
    "# 데이터 불러오기\n",
    "X = np.load('../team_project/data/data.npy')  # 이미지 데이터 (예: 80,000개)\n",
    "y_df = pd.read_csv('../team_project/painting.csv')  # CSV 레이블 데이터"
   ]
  },
  {
   "cell_type": "code",
   "execution_count": 5,
   "id": "43932072",
   "metadata": {},
   "outputs": [
    {
     "name": "stderr",
     "output_type": "stream",
     "text": [
      "C:\\Users\\user\\anaconda3\\lib\\site-packages\\sklearn\\preprocessing\\_encoders.py:828: FutureWarning: `sparse` was renamed to `sparse_output` in version 1.2 and will be removed in 1.4. `sparse_output` is ignored unless you leave `sparse` to its default value.\n",
      "  warnings.warn(\n"
     ]
    }
   ],
   "source": [
    "# y 라벨 인코딩 (문자형 → 숫자로 변환)\n",
    "label_encoder = LabelEncoder()\n",
    "y_labels = label_encoder.fit_transform(y_df[\"genre\"])  # 장르를 숫자로 변환\n",
    "\n",
    "# y 원핫 인코딩 (Neural Network에서 학습 가능하도록 변환)\n",
    "onehot_encoder = OneHotEncoder(sparse=False)\n",
    "y_onehot = onehot_encoder.fit_transform(y_labels.reshape(-1, 1))"
   ]
  },
  {
   "cell_type": "code",
   "execution_count": 6,
   "id": "e0aac0bf",
   "metadata": {},
   "outputs": [],
   "source": [
    "# 장르별 데이터 개수 확인\n",
    "genre_counts = y_df[\"genre\"].value_counts()\n",
    "genre_ratios = genre_counts / genre_counts.sum()  # 장르별 비율 유지"
   ]
  },
  {
   "cell_type": "code",
   "execution_count": 7,
   "id": "8aeb5a4f",
   "metadata": {},
   "outputs": [],
   "source": [
    "# 각 장르에서 샘플링할 개수 설정\n",
    "total_samples = 20000\n",
    "samples_per_genre = (genre_ratios * total_samples).astype(int)\n",
    "samples_per_genre[samples_per_genre == 0] = 2  # 최소 2개 이상 유지"
   ]
  },
  {
   "cell_type": "code",
   "execution_count": 8,
   "id": "74a61c6c",
   "metadata": {},
   "outputs": [
    {
     "name": "stdout",
     "output_type": "stream",
     "text": [
      "X_sample.shape=(19979, 128, 128, 3), y_sample.shape=(19979, 44)\n"
     ]
    }
   ],
   "source": [
    "# 샘플링 수행 (각 장르에서 비율 유지)\n",
    "selected_indices = []\n",
    "\n",
    "for genre, sample_count in samples_per_genre.items():\n",
    "    genre_indices = y_df[y_df[\"genre\"] == genre].index.tolist()  # 특정 장르의 인덱스 가져오기\n",
    "    sampled_indices = np.random.choice(genre_indices, sample_count, replace=False)  # 랜덤 샘플링\n",
    "    selected_indices.extend(sampled_indices)  # 최종 리스트에 추가\n",
    "\n",
    "X_sample = X[selected_indices]  # 이미지 샘플링\n",
    "y_sample = y_onehot[selected_indices]  # y 샘플링\n",
    "\n",
    "print(f\"X_sample.shape={X_sample.shape}, y_sample.shape={y_sample.shape}\")"
   ]
  },
  {
   "cell_type": "code",
   "execution_count": 9,
   "id": "5e7b5ac6",
   "metadata": {},
   "outputs": [
    {
     "name": "stdout",
     "output_type": "stream",
     "text": [
      "X_train=(13985, 128, 128, 3), X_test=(5994, 128, 128, 3)\n"
     ]
    }
   ],
   "source": [
    "# train-test 데이터 분할 (stratify=y_sample으로 클래스 균형 유지)\n",
    "X_train, X_test, y_train, y_test = train_test_split(\n",
    "    X_sample, y_sample, test_size=0.3, stratify=y_sample, shuffle=True)\n",
    "\n",
    "print(f\"X_train={X_train.shape}, X_test={X_test.shape}\")"
   ]
  },
  {
   "cell_type": "code",
   "execution_count": 10,
   "id": "bf3d2a3c",
   "metadata": {},
   "outputs": [],
   "source": [
    "# 학습 데이터 증강 설정\n",
    "train_datagen = ImageDataGenerator(\n",
    "    rotation_range=20,  # 0~20도 회전\n",
    "    width_shift_range=0.1,  # 가로 이동 (최대 10%)\n",
    "    height_shift_range=0.1,  # 세로 이동 (최대 10%)\n",
    "    shear_range=0.2,  # 전단 변형\n",
    "    zoom_range=0.2,  # 확대/축소 (20%)\n",
    "    horizontal_flip=True,  # 좌우 반전\n",
    "    fill_mode=\"nearest\"  # 빈 픽셀을 가장 가까운 값으로 채움\n",
    ")\n",
    "\n",
    "# 증강된 학습 데이터 생성\n",
    "train_generator = train_datagen.flow(X_train, y_train, batch_size=64)\n",
    "\n",
    "# 검증 데이터는 증강 없이 사용\n",
    "valid_datagen = ImageDataGenerator()\n",
    "valid_generator = valid_datagen.flow(X_test, y_test, batch_size=64)"
   ]
  },
  {
   "cell_type": "markdown",
   "id": "61f11f3c",
   "metadata": {},
   "source": [
    "# CustomHistory class"
   ]
  },
  {
   "cell_type": "code",
   "execution_count": 11,
   "id": "e5210ef9",
   "metadata": {},
   "outputs": [],
   "source": [
    "class CustomHistory(Callback):  # on_epoch_end()는 각 에포크 종료시 자동 호출\n",
    "    def __init__(self, times=5):  # 생성자 함수\n",
    "        self.epoch = 0\n",
    "        self.times = times\n",
    "    def on_epoch_end(self, batch, \n",
    "                     logs={}):\n",
    "        self.epoch += 1\n",
    "        if self.epoch%self.times == 0:\n",
    "            print('epoch:{}, loss:{}, acc:{}, val_loss:{}, val_acc:{}'.format(self.epoch, logs.get('loss'), logs.get('accuracy'), logs.get('val_loss'), logs.get('val_accuracy')))"
   ]
  },
  {
   "cell_type": "markdown",
   "id": "7282cce9",
   "metadata": {},
   "source": [
    "# 1.LeNet"
   ]
  },
  {
   "cell_type": "code",
   "execution_count": 12,
   "id": "992e0aa7",
   "metadata": {},
   "outputs": [],
   "source": [
    "class LeNet:\n",
    "    @staticmethod\n",
    "    def build(input_shape=(128, 128, 3), num_classes=len(y_train[0]), activation='relu'):\n",
    "        model = Sequential([\n",
    "            Input(shape=input_shape),\n",
    "\n",
    "            Conv2D(32, kernel_size=(5, 5), activation=activation, kernel_initializer=GlorotNormal(), padding='same'), # GlorotNormal() 가중치 초기화 \n",
    "            BatchNormalization(),\n",
    "            MaxPooling2D(pool_size=(2, 2), strides=2),\n",
    "\n",
    "            Conv2D(64, kernel_size=(5, 5), activation=activation, kernel_initializer=GlorotNormal(), padding='same'),\n",
    "            BatchNormalization(),\n",
    "            MaxPooling2D(pool_size=(2, 2), strides=2),\n",
    "\n",
    "            Conv2D(128, kernel_size=(3, 3), activation=activation, kernel_initializer=GlorotNormal(), padding='same'),\n",
    "            BatchNormalization(),\n",
    "            MaxPooling2D(pool_size=(2, 2), strides=2),\n",
    "\n",
    "            Flatten(),\n",
    "\n",
    "            Dense(256, activation=activation, kernel_initializer=GlorotNormal()),\n",
    "            BatchNormalization(),\n",
    "            Dropout(0.4),\n",
    "\n",
    "            Dense(128, activation=activation, kernel_initializer=GlorotNormal()),\n",
    "            BatchNormalization(),\n",
    "            Dropout(0.4),\n",
    "\n",
    "            Dense(num_classes, activation='softmax')  # 최종 출력층\n",
    "        ])\n",
    "        return model"
   ]
  },
  {
   "cell_type": "code",
   "execution_count": 13,
   "id": "c5c945d2",
   "metadata": {
    "scrolled": true
   },
   "outputs": [
    {
     "name": "stdout",
     "output_type": "stream",
     "text": [
      "Model: \"sequential\"\n",
      "_________________________________________________________________\n",
      " Layer (type)                Output Shape              Param #   \n",
      "=================================================================\n",
      " conv2d (Conv2D)             (None, 128, 128, 32)      2432      \n",
      "                                                                 \n",
      " batch_normalization (BatchN  (None, 128, 128, 32)     128       \n",
      " ormalization)                                                   \n",
      "                                                                 \n",
      " max_pooling2d (MaxPooling2D  (None, 64, 64, 32)       0         \n",
      " )                                                               \n",
      "                                                                 \n",
      " conv2d_1 (Conv2D)           (None, 64, 64, 64)        51264     \n",
      "                                                                 \n",
      " batch_normalization_1 (Batc  (None, 64, 64, 64)       256       \n",
      " hNormalization)                                                 \n",
      "                                                                 \n",
      " max_pooling2d_1 (MaxPooling  (None, 32, 32, 64)       0         \n",
      " 2D)                                                             \n",
      "                                                                 \n",
      " conv2d_2 (Conv2D)           (None, 32, 32, 128)       73856     \n",
      "                                                                 \n",
      " batch_normalization_2 (Batc  (None, 32, 32, 128)      512       \n",
      " hNormalization)                                                 \n",
      "                                                                 \n",
      " max_pooling2d_2 (MaxPooling  (None, 16, 16, 128)      0         \n",
      " 2D)                                                             \n",
      "                                                                 \n",
      " flatten (Flatten)           (None, 32768)             0         \n",
      "                                                                 \n",
      " dense (Dense)               (None, 256)               8388864   \n",
      "                                                                 \n",
      " batch_normalization_3 (Batc  (None, 256)              1024      \n",
      " hNormalization)                                                 \n",
      "                                                                 \n",
      " dropout (Dropout)           (None, 256)               0         \n",
      "                                                                 \n",
      " dense_1 (Dense)             (None, 128)               32896     \n",
      "                                                                 \n",
      " batch_normalization_4 (Batc  (None, 128)              512       \n",
      " hNormalization)                                                 \n",
      "                                                                 \n",
      " dropout_1 (Dropout)         (None, 128)               0         \n",
      "                                                                 \n",
      " dense_2 (Dense)             (None, 44)                5676      \n",
      "                                                                 \n",
      "=================================================================\n",
      "Total params: 8,557,420\n",
      "Trainable params: 8,556,204\n",
      "Non-trainable params: 1,216\n",
      "_________________________________________________________________\n"
     ]
    }
   ],
   "source": [
    "model = LeNet.build(input_shape=(128, 128, 3))\n",
    "model.summary()"
   ]
  },
  {
   "cell_type": "code",
   "execution_count": 14,
   "id": "f995e3a1",
   "metadata": {
    "scrolled": true
   },
   "outputs": [
    {
     "name": "stdout",
     "output_type": "stream",
     "text": [
      "Epoch 1/100\n",
      "  6/438 [..............................] - ETA: 17s - loss: 4.6124 - accuracy: 0.0781  WARNING:tensorflow:Callback method `on_train_batch_end` is slow compared to the batch time (batch time: 0.0180s vs `on_train_batch_end` time: 0.0204s). Check your callbacks.\n",
      "438/438 [==============================] - 48s 40ms/step - loss: 3.2955 - accuracy: 0.2566 - val_loss: 3.3678 - val_accuracy: 0.2858\n",
      "Epoch 2/100\n",
      "438/438 [==============================] - 15s 35ms/step - loss: 2.6634 - accuracy: 0.3281 - val_loss: 2.7462 - val_accuracy: 0.2491\n",
      "Epoch 3/100\n",
      "437/438 [============================>.] - ETA: 0s - loss: 2.3803 - accuracy: 0.3601epoch:3, loss:2.380336284637451, acc:0.360100120306015, val_loss:2.3493494987487793, val_acc:0.3508508503437042\n",
      "438/438 [==============================] - 15s 35ms/step - loss: 2.3803 - accuracy: 0.3601 - val_loss: 2.3493 - val_accuracy: 0.3509\n",
      "Epoch 4/100\n",
      "438/438 [==============================] - 15s 35ms/step - loss: 2.2014 - accuracy: 0.3888 - val_loss: 2.1895 - val_accuracy: 0.3787\n",
      "Epoch 5/100\n",
      "438/438 [==============================] - 15s 35ms/step - loss: 2.0857 - accuracy: 0.4129 - val_loss: 2.2929 - val_accuracy: 0.3722\n",
      "Epoch 6/100\n",
      "437/438 [============================>.] - ETA: 0s - loss: 1.9727 - accuracy: 0.4342epoch:6, loss:1.9728412628173828, acc:0.43417948484420776, val_loss:2.0904064178466797, val_acc:0.4042375683784485\n",
      "438/438 [==============================] - 15s 35ms/step - loss: 1.9728 - accuracy: 0.4342 - val_loss: 2.0904 - val_accuracy: 0.4042\n",
      "Epoch 7/100\n",
      "438/438 [==============================] - 15s 34ms/step - loss: 1.8140 - accuracy: 0.4767 - val_loss: 2.0672 - val_accuracy: 0.4144\n",
      "Epoch 8/100\n",
      "438/438 [==============================] - 15s 35ms/step - loss: 1.7103 - accuracy: 0.5080 - val_loss: 2.3774 - val_accuracy: 0.3612\n",
      "Epoch 9/100\n",
      "437/438 [============================>.] - ETA: 0s - loss: 1.5795 - accuracy: 0.5416epoch:9, loss:1.5796829462051392, acc:0.5415802597999573, val_loss:2.1500003337860107, val_acc:0.39673006534576416\n",
      "438/438 [==============================] - 15s 35ms/step - loss: 1.5797 - accuracy: 0.5416 - val_loss: 2.1500 - val_accuracy: 0.3967\n",
      "Epoch 10/100\n",
      "438/438 [==============================] - 15s 35ms/step - loss: 1.3910 - accuracy: 0.5916 - val_loss: 2.2529 - val_accuracy: 0.3986\n",
      "Epoch 11/100\n",
      "438/438 [==============================] - 15s 35ms/step - loss: 1.1175 - accuracy: 0.6739 - val_loss: 2.3643 - val_accuracy: 0.3989\n",
      "Epoch 12/100\n",
      "437/438 [============================>.] - ETA: 0s - loss: 0.9533 - accuracy: 0.7177epoch:12, loss:0.9536892175674438, acc:0.7176260352134705, val_loss:2.4152071475982666, val_acc:0.38755422830581665\n",
      "438/438 [==============================] - 15s 35ms/step - loss: 0.9537 - accuracy: 0.7176 - val_loss: 2.4152 - val_accuracy: 0.3876\n",
      "Epoch 13/100\n",
      "438/438 [==============================] - 15s 35ms/step - loss: 0.7162 - accuracy: 0.7873 - val_loss: 2.8079 - val_accuracy: 0.3856\n",
      "Epoch 14/100\n",
      "438/438 [==============================] - 15s 35ms/step - loss: 0.5433 - accuracy: 0.8423 - val_loss: 2.7866 - val_accuracy: 0.3737\n",
      "Epoch 15/100\n",
      "437/438 [============================>.] - ETA: 0s - loss: 0.4697 - accuracy: 0.8594epoch:15, loss:0.46985965967178345, acc:0.8593493103981018, val_loss:3.0457284450531006, val_acc:0.38304972648620605\n",
      "438/438 [==============================] - 15s 35ms/step - loss: 0.4699 - accuracy: 0.8593 - val_loss: 3.0457 - val_accuracy: 0.3830\n",
      "Epoch 16/100\n",
      "438/438 [==============================] - 15s 35ms/step - loss: 0.3429 - accuracy: 0.9011 - val_loss: 3.0520 - val_accuracy: 0.3964\n",
      "Epoch 17/100\n",
      "438/438 [==============================] - 15s 35ms/step - loss: 0.4433 - accuracy: 0.8662 - val_loss: 3.2737 - val_accuracy: 0.3669\n",
      "Epoch 18/100\n",
      "437/438 [============================>.] - ETA: 0s - loss: 0.3033 - accuracy: 0.9075epoch:18, loss:0.30334633588790894, acc:0.9074723124504089, val_loss:3.2726216316223145, val_acc:0.3782115578651428\n",
      "438/438 [==============================] - 15s 35ms/step - loss: 0.3033 - accuracy: 0.9075 - val_loss: 3.2726 - val_accuracy: 0.3782\n",
      "Epoch 19/100\n",
      "438/438 [==============================] - 15s 35ms/step - loss: 0.2339 - accuracy: 0.9281 - val_loss: 3.2530 - val_accuracy: 0.3874\n",
      "Epoch 20/100\n",
      "438/438 [==============================] - 15s 35ms/step - loss: 0.2124 - accuracy: 0.9333 - val_loss: 3.4968 - val_accuracy: 0.3645\n",
      "Epoch 21/100\n",
      "437/438 [============================>.] - ETA: 0s - loss: 0.2310 - accuracy: 0.9283epoch:21, loss:0.23140615224838257, acc:0.9282087683677673, val_loss:3.59626841545105, val_acc:0.3625291883945465\n",
      "438/438 [==============================] - 15s 35ms/step - loss: 0.2314 - accuracy: 0.9282 - val_loss: 3.5963 - val_accuracy: 0.3625\n",
      "Epoch 22/100\n",
      "438/438 [==============================] - 15s 35ms/step - loss: 0.1763 - accuracy: 0.9425 - val_loss: 3.8643 - val_accuracy: 0.3695\n",
      "Epoch 23/100\n",
      "438/438 [==============================] - 15s 35ms/step - loss: 0.1576 - accuracy: 0.9511 - val_loss: 3.6415 - val_accuracy: 0.3872\n",
      "Epoch 24/100\n",
      "437/438 [============================>.] - ETA: 0s - loss: 0.1421 - accuracy: 0.9562epoch:24, loss:0.1424047350883484, acc:0.956095814704895, val_loss:4.042975425720215, val_acc:0.3543543517589569\n",
      "438/438 [==============================] - 15s 35ms/step - loss: 0.1424 - accuracy: 0.9561 - val_loss: 4.0430 - val_accuracy: 0.3544\n",
      "Epoch 25/100\n",
      "438/438 [==============================] - 15s 34ms/step - loss: 0.1423 - accuracy: 0.9557 - val_loss: 3.8070 - val_accuracy: 0.3859\n",
      "Epoch 26/100\n",
      "438/438 [==============================] - 15s 35ms/step - loss: 0.1212 - accuracy: 0.9622 - val_loss: 3.9236 - val_accuracy: 0.3789\n",
      "Epoch 27/100\n",
      "437/438 [============================>.] - ETA: 0s - loss: 0.1571 - accuracy: 0.9514epoch:27, loss:0.15749023854732513, acc:0.9513764977455139, val_loss:3.8328001499176025, val_acc:0.33933934569358826\n",
      "438/438 [==============================] - 15s 35ms/step - loss: 0.1575 - accuracy: 0.9514 - val_loss: 3.8328 - val_accuracy: 0.3393\n",
      "Epoch 28/100\n",
      "438/438 [==============================] - 15s 35ms/step - loss: 0.1575 - accuracy: 0.9511 - val_loss: 4.0895 - val_accuracy: 0.3695\n",
      "Epoch 29/100\n",
      "438/438 [==============================] - 15s 35ms/step - loss: 0.1483 - accuracy: 0.9524 - val_loss: 4.1087 - val_accuracy: 0.3722\n",
      "Epoch 30/100\n",
      "437/438 [============================>.] - ETA: 0s - loss: 0.1129 - accuracy: 0.9658epoch:30, loss:0.11314412951469421, acc:0.9657490253448486, val_loss:4.297938346862793, val_acc:0.37570905685424805\n",
      "438/438 [==============================] - 15s 35ms/step - loss: 0.1131 - accuracy: 0.9657 - val_loss: 4.2979 - val_accuracy: 0.3757\n",
      "Epoch 31/100\n",
      "438/438 [==============================] - 15s 35ms/step - loss: 0.1196 - accuracy: 0.9629 - val_loss: 4.0682 - val_accuracy: 0.3810\n",
      "Epoch 32/100\n",
      "438/438 [==============================] - 15s 35ms/step - loss: 0.0989 - accuracy: 0.9675 - val_loss: 4.1599 - val_accuracy: 0.3780\n",
      "Epoch 33/100\n",
      "437/438 [============================>.] - ETA: 0s - loss: 0.0779 - accuracy: 0.9755epoch:33, loss:0.07829460501670837, acc:0.9754737019538879, val_loss:4.10867977142334, val_acc:0.37454119324684143\n",
      "438/438 [==============================] - 15s 35ms/step - loss: 0.0783 - accuracy: 0.9755 - val_loss: 4.1087 - val_accuracy: 0.3745\n",
      "Epoch 34/100\n",
      "438/438 [==============================] - 15s 35ms/step - loss: 0.1111 - accuracy: 0.9657 - val_loss: 4.3111 - val_accuracy: 0.3767\n",
      "Epoch 35/100\n",
      "438/438 [==============================] - 15s 35ms/step - loss: 0.1117 - accuracy: 0.9645 - val_loss: 4.4742 - val_accuracy: 0.3572\n",
      "Epoch 36/100\n",
      "437/438 [============================>.] - ETA: 0s - loss: 0.0918 - accuracy: 0.9714epoch:36, loss:0.09188267588615417, acc:0.9713264107704163, val_loss:4.374241828918457, val_acc:0.3823823928833008\n",
      "438/438 [==============================] - 15s 35ms/step - loss: 0.0919 - accuracy: 0.9713 - val_loss: 4.3742 - val_accuracy: 0.3824\n",
      "Epoch 37/100\n",
      "438/438 [==============================] - 15s 35ms/step - loss: 0.1103 - accuracy: 0.9657 - val_loss: 4.1911 - val_accuracy: 0.3770\n"
     ]
    }
   ],
   "source": [
    "# 학습설정\n",
    "model.compile(optimizer=Adam(learning_rate=0.0005), loss='categorical_crossentropy',\n",
    "              metrics=['accuracy'])\n",
    "# 학습시키기\n",
    "customHistory = CustomHistory(3)\n",
    "earlystopping = EarlyStopping(patience=30)\n",
    "hist = model.fit(X_train, y_train, validation_data=(X_test, y_test), epochs=100, callbacks=[customHistory,\n",
    "                                                                                             earlystopping], verbose=1)"
   ]
  },
  {
   "cell_type": "code",
   "execution_count": 17,
   "id": "57cc36b1",
   "metadata": {},
   "outputs": [
    {
     "name": "stdout",
     "output_type": "stream",
     "text": [
      "188/188 [==============================] - 2s 9ms/step - loss: 4.1911 - accuracy: 0.3770\n",
      "accuracy : 37.70%\n"
     ]
    }
   ],
   "source": [
    "# 모델평가\n",
    "loss, accuracy = model.evaluate(X_test, y_test)\n",
    "print('accuracy : {:.2f}%'.format(accuracy*100))"
   ]
  },
  {
   "cell_type": "code",
   "execution_count": 18,
   "id": "e6030da5",
   "metadata": {},
   "outputs": [
    {
     "data": {
      "image/png": "[encoded data removed]",
      "text/plain": [
       "<Figure size 1000x500 with 2 Axes>"
      ]
     },
     "metadata": {},
     "output_type": "display_data"
    }
   ],
   "source": [
    "# 학습과정 표시하기(validation dataset 있는 경우)\n",
    "fig, loss_ax = plt.subplots(figsize=(10,5))\n",
    "loss_ax.plot(hist.history['loss'], 'r', label='train loss')\n",
    "loss_ax.plot(hist.history['val_loss'], 'y', label='validation loss')\n",
    "loss_ax.set_xlabel('epoch')\n",
    "loss_ax.set_ylabel('loss')\n",
    "acc_ax = loss_ax.twinx()\n",
    "acc_ax.plot(hist.history['accuracy'], 'b', label='train accuracy')\n",
    "acc_ax.plot(hist.history['val_accuracy'], 'g', label='validation accuracy')\n",
    "acc_ax.set_ylabel('accuracy')\n",
    "loss_ax.legend(loc='center right')\n",
    "acc_ax.legend(bbox_to_anchor=(0.999, 0.7))\n",
    "plt.show()"
   ]
  },
  {
   "cell_type": "code",
   "execution_count": 34,
   "id": "c108b96e",
   "metadata": {},
   "outputs": [
    {
     "name": "stdout",
     "output_type": "stream",
     "text": [
      "모델 저장 완료\n"
     ]
    }
   ],
   "source": [
    "model.save(\"../team_project/data/cnn_lenet_model.h5\")\n",
    "print(\"모델 저장 완료\")"
   ]
  },
  {
   "cell_type": "markdown",
   "id": "c9d40d8b",
   "metadata": {},
   "source": [
    "# 2.AlexNet"
   ]
  },
  {
   "cell_type": "code",
   "execution_count": 20,
   "id": "fef9fa27",
   "metadata": {
    "code_folding": []
   },
   "outputs": [],
   "source": [
    "class AlexNet:\n",
    "    @staticmethod\n",
    "    def build(input_shape=(128,128,3), activation='relu', num_classes=len(y_train[0])):  \n",
    "        model = Sequential([\n",
    "            Input(shape=input_shape),\n",
    "\n",
    "            Conv2D(32, kernel_size=(5,5), strides=(2,2), activation=activation, padding='same'),\n",
    "            MaxPooling2D(pool_size=(2,2), strides=(2,2)),\n",
    "            BatchNormalization(),\n",
    "\n",
    "            Conv2D(64, kernel_size=(3,3), activation=activation, padding='same'),\n",
    "            MaxPooling2D(pool_size=(2,2), strides=(2,2)),\n",
    "            BatchNormalization(),\n",
    "\n",
    "            Conv2D(128, kernel_size=(3,3), activation=activation, padding='same'),\n",
    "            MaxPooling2D(pool_size=(2,2), strides=(2,2)),\n",
    "\n",
    "            Flatten(),\n",
    "\n",
    "            Dense(512, activation=activation),\n",
    "            Dropout(0.3),\n",
    "            Dense(512, activation=activation),\n",
    "            Dropout(0.3),\n",
    "\n",
    "            Dense(num_classes, activation='softmax')\n",
    "        ])\n",
    "        return model"
   ]
  },
  {
   "cell_type": "code",
   "execution_count": 21,
   "id": "1ddcd66d",
   "metadata": {
    "scrolled": true
   },
   "outputs": [
    {
     "name": "stdout",
     "output_type": "stream",
     "text": [
      "Model: \"sequential_1\"\n",
      "_________________________________________________________________\n",
      " Layer (type)                Output Shape              Param #   \n",
      "=================================================================\n",
      " conv2d_3 (Conv2D)           (None, 64, 64, 32)        2432      \n",
      "                                                                 \n",
      " max_pooling2d_3 (MaxPooling  (None, 32, 32, 32)       0         \n",
      " 2D)                                                             \n",
      "                                                                 \n",
      " batch_normalization_5 (Batc  (None, 32, 32, 32)       128       \n",
      " hNormalization)                                                 \n",
      "                                                                 \n",
      " conv2d_4 (Conv2D)           (None, 32, 32, 64)        18496     \n",
      "                                                                 \n",
      " max_pooling2d_4 (MaxPooling  (None, 16, 16, 64)       0         \n",
      " 2D)                                                             \n",
      "                                                                 \n",
      " batch_normalization_6 (Batc  (None, 16, 16, 64)       256       \n",
      " hNormalization)                                                 \n",
      "                                                                 \n",
      " conv2d_5 (Conv2D)           (None, 16, 16, 128)       73856     \n",
      "                                                                 \n",
      " max_pooling2d_5 (MaxPooling  (None, 8, 8, 128)        0         \n",
      " 2D)                                                             \n",
      "                                                                 \n",
      " flatten_1 (Flatten)         (None, 8192)              0         \n",
      "                                                                 \n",
      " dense_3 (Dense)             (None, 512)               4194816   \n",
      "                                                                 \n",
      " dropout_2 (Dropout)         (None, 512)               0         \n",
      "                                                                 \n",
      " dense_4 (Dense)             (None, 512)               262656    \n",
      "                                                                 \n",
      " dropout_3 (Dropout)         (None, 512)               0         \n",
      "                                                                 \n",
      " dense_5 (Dense)             (None, 44)                22572     \n",
      "                                                                 \n",
      "=================================================================\n",
      "Total params: 4,575,212\n",
      "Trainable params: 4,575,020\n",
      "Non-trainable params: 192\n",
      "_________________________________________________________________\n"
     ]
    }
   ],
   "source": [
    "model = AlexNet.build(input_shape=(128, 128, 3))\n",
    "model.summary()"
   ]
  },
  {
   "cell_type": "code",
   "execution_count": 22,
   "id": "f0ce7e6e",
   "metadata": {},
   "outputs": [
    {
     "name": "stdout",
     "output_type": "stream",
     "text": [
      "Epoch 1/100\n",
      "438/438 [==============================] - 7s 13ms/step - loss: 2.6230 - accuracy: 0.2720 - val_loss: 2.5025 - val_accuracy: 0.2848\n",
      "Epoch 2/100\n",
      "438/438 [==============================] - 5s 12ms/step - loss: 2.4018 - accuracy: 0.3314 - val_loss: 2.3843 - val_accuracy: 0.2706\n",
      "Epoch 3/100\n",
      "436/438 [============================>.] - ETA: 0s - loss: 2.2702 - accuracy: 0.3602epoch:3, loss:2.2713356018066406, acc:0.35995709896087646, val_loss:2.310457229614258, val_acc:0.3476810157299042\n",
      "438/438 [==============================] - 5s 12ms/step - loss: 2.2713 - accuracy: 0.3600 - val_loss: 2.3105 - val_accuracy: 0.3477\n",
      "Epoch 4/100\n",
      "438/438 [==============================] - 5s 12ms/step - loss: 2.1827 - accuracy: 0.3851 - val_loss: 2.5243 - val_accuracy: 0.3090\n",
      "Epoch 5/100\n",
      "438/438 [==============================] - 5s 12ms/step - loss: 2.0917 - accuracy: 0.4039 - val_loss: 2.2617 - val_accuracy: 0.3700\n",
      "Epoch 6/100\n",
      "433/438 [============================>.] - ETA: 0s - loss: 2.0049 - accuracy: 0.4255epoch:6, loss:2.0047662258148193, acc:0.4253128468990326, val_loss:2.0821313858032227, val_acc:0.4082415699958801\n",
      "438/438 [==============================] - 5s 12ms/step - loss: 2.0048 - accuracy: 0.4253 - val_loss: 2.0821 - val_accuracy: 0.4082\n",
      "Epoch 7/100\n",
      "438/438 [==============================] - 5s 12ms/step - loss: 1.9170 - accuracy: 0.4495 - val_loss: 2.0634 - val_accuracy: 0.4194\n",
      "Epoch 8/100\n",
      "438/438 [==============================] - 5s 12ms/step - loss: 1.8022 - accuracy: 0.4783 - val_loss: 2.1041 - val_accuracy: 0.4152\n",
      "Epoch 9/100\n",
      "434/438 [============================>.] - ETA: 0s - loss: 1.6763 - accuracy: 0.5092epoch:9, loss:1.6753621101379395, acc:0.5096174478530884, val_loss:2.1912057399749756, val_acc:0.39873206615448\n",
      "438/438 [==============================] - 5s 12ms/step - loss: 1.6754 - accuracy: 0.5096 - val_loss: 2.1912 - val_accuracy: 0.3987\n",
      "Epoch 10/100\n",
      "438/438 [==============================] - 5s 12ms/step - loss: 1.5378 - accuracy: 0.5471 - val_loss: 2.0992 - val_accuracy: 0.4176\n",
      "Epoch 11/100\n",
      "438/438 [==============================] - 5s 12ms/step - loss: 1.4349 - accuracy: 0.5690 - val_loss: 2.1433 - val_accuracy: 0.4179\n",
      "Epoch 12/100\n",
      "435/438 [============================>.] - ETA: 0s - loss: 1.2542 - accuracy: 0.6201epoch:12, loss:1.2553937435150146, acc:0.6195924282073975, val_loss:2.2811648845672607, val_acc:0.41858524084091187\n",
      "438/438 [==============================] - 5s 12ms/step - loss: 1.2554 - accuracy: 0.6196 - val_loss: 2.2812 - val_accuracy: 0.4186\n",
      "Epoch 13/100\n",
      "438/438 [==============================] - 5s 12ms/step - loss: 1.1303 - accuracy: 0.6495 - val_loss: 2.3578 - val_accuracy: 0.3830\n",
      "Epoch 14/100\n",
      "438/438 [==============================] - 5s 12ms/step - loss: 1.0286 - accuracy: 0.6779 - val_loss: 3.1468 - val_accuracy: 0.3912\n",
      "Epoch 15/100\n",
      "433/438 [============================>.] - ETA: 0s - loss: 0.9834 - accuracy: 0.6945epoch:15, loss:0.9844160676002502, acc:0.6945298314094543, val_loss:2.5856471061706543, val_acc:0.4000667333602905\n",
      "438/438 [==============================] - 5s 12ms/step - loss: 0.9844 - accuracy: 0.6945 - val_loss: 2.5856 - val_accuracy: 0.4001\n",
      "Epoch 16/100\n",
      "438/438 [==============================] - 5s 12ms/step - loss: 0.8922 - accuracy: 0.7178 - val_loss: 2.6783 - val_accuracy: 0.4152\n",
      "Epoch 17/100\n",
      "438/438 [==============================] - 5s 12ms/step - loss: 0.7975 - accuracy: 0.7444 - val_loss: 2.9040 - val_accuracy: 0.3864\n",
      "Epoch 18/100\n",
      "435/438 [============================>.] - ETA: 0s - loss: 0.7010 - accuracy: 0.7753epoch:18, loss:0.7017765045166016, acc:0.7749732136726379, val_loss:2.7793943881988525, val_acc:0.40740740299224854\n",
      "438/438 [==============================] - 5s 12ms/step - loss: 0.7018 - accuracy: 0.7750 - val_loss: 2.7794 - val_accuracy: 0.4074\n",
      "Epoch 19/100\n",
      "438/438 [==============================] - 5s 12ms/step - loss: 0.6685 - accuracy: 0.7859 - val_loss: 2.9793 - val_accuracy: 0.3949\n",
      "Epoch 20/100\n",
      "438/438 [==============================] - 5s 12ms/step - loss: 0.5908 - accuracy: 0.8126 - val_loss: 3.2999 - val_accuracy: 0.3834\n",
      "Epoch 21/100\n",
      "433/438 [============================>.] - ETA: 0s - loss: 0.5951 - accuracy: 0.8103epoch:21, loss:0.5948308110237122, acc:0.8103682398796082, val_loss:2.9861764907836914, val_acc:0.4125792384147644\n",
      "438/438 [==============================] - 5s 12ms/step - loss: 0.5948 - accuracy: 0.8104 - val_loss: 2.9862 - val_accuracy: 0.4126\n",
      "Epoch 22/100\n",
      "438/438 [==============================] - 5s 12ms/step - loss: 0.6151 - accuracy: 0.8061 - val_loss: 3.0407 - val_accuracy: 0.4076\n",
      "Epoch 23/100\n",
      "438/438 [==============================] - 5s 12ms/step - loss: 0.5055 - accuracy: 0.8380 - val_loss: 3.5335 - val_accuracy: 0.4071\n",
      "Epoch 24/100\n",
      "436/438 [============================>.] - ETA: 0s - loss: 0.4845 - accuracy: 0.8443epoch:24, loss:0.48488959670066833, acc:0.8443332314491272, val_loss:3.1960928440093994, val_acc:0.39222556352615356\n",
      "438/438 [==============================] - 5s 12ms/step - loss: 0.4849 - accuracy: 0.8443 - val_loss: 3.1961 - val_accuracy: 0.3922\n",
      "Epoch 25/100\n",
      "438/438 [==============================] - 5s 12ms/step - loss: 0.4512 - accuracy: 0.8538 - val_loss: 3.3610 - val_accuracy: 0.3979\n",
      "Epoch 26/100\n",
      "438/438 [==============================] - 5s 12ms/step - loss: 0.4539 - accuracy: 0.8556 - val_loss: 3.5253 - val_accuracy: 0.4029\n",
      "Epoch 27/100\n",
      "438/438 [==============================] - ETA: 0s - loss: 0.4200 - accuracy: 0.8634epoch:27, loss:0.42004871368408203, acc:0.863425076007843, val_loss:3.551633358001709, val_acc:0.4044044017791748\n",
      "438/438 [==============================] - 5s 12ms/step - loss: 0.4200 - accuracy: 0.8634 - val_loss: 3.5516 - val_accuracy: 0.4044\n",
      "Epoch 28/100\n",
      "438/438 [==============================] - 5s 12ms/step - loss: 0.4115 - accuracy: 0.8672 - val_loss: 3.5625 - val_accuracy: 0.3946\n",
      "Epoch 29/100\n",
      "438/438 [==============================] - 5s 12ms/step - loss: 0.4128 - accuracy: 0.8694 - val_loss: 3.1736 - val_accuracy: 0.3967\n",
      "Epoch 30/100\n",
      "438/438 [==============================] - ETA: 0s - loss: 0.3874 - accuracy: 0.8764epoch:30, loss:0.3873862028121948, acc:0.8764390349388123, val_loss:3.6359927654266357, val_acc:0.4072405695915222\n",
      "438/438 [==============================] - 5s 12ms/step - loss: 0.3874 - accuracy: 0.8764 - val_loss: 3.6360 - val_accuracy: 0.4072\n",
      "Epoch 31/100\n",
      "438/438 [==============================] - 5s 12ms/step - loss: 0.3749 - accuracy: 0.8809 - val_loss: 3.5626 - val_accuracy: 0.3967\n",
      "Epoch 32/100\n",
      "438/438 [==============================] - 5s 12ms/step - loss: 0.3634 - accuracy: 0.8845 - val_loss: 3.6858 - val_accuracy: 0.4054\n",
      "Epoch 33/100\n",
      "437/438 [============================>.] - ETA: 0s - loss: 0.3431 - accuracy: 0.8899epoch:33, loss:0.3431646227836609, acc:0.8898820281028748, val_loss:3.715019941329956, val_acc:0.38938939571380615\n",
      "438/438 [==============================] - 5s 12ms/step - loss: 0.3432 - accuracy: 0.8899 - val_loss: 3.7150 - val_accuracy: 0.3894\n",
      "Epoch 34/100\n",
      "438/438 [==============================] - 5s 12ms/step - loss: 0.3535 - accuracy: 0.8877 - val_loss: 3.7186 - val_accuracy: 0.4062\n",
      "Epoch 35/100\n",
      "438/438 [==============================] - 5s 12ms/step - loss: 0.3194 - accuracy: 0.8963 - val_loss: 3.6273 - val_accuracy: 0.4024\n",
      "Epoch 36/100\n",
      "434/438 [============================>.] - ETA: 0s - loss: 0.3278 - accuracy: 0.8954epoch:36, loss:0.32686224579811096, acc:0.8955309391021729, val_loss:3.640084981918335, val_acc:0.39556223154067993\n",
      "438/438 [==============================] - 5s 12ms/step - loss: 0.3269 - accuracy: 0.8955 - val_loss: 3.6401 - val_accuracy: 0.3956\n",
      "Epoch 37/100\n",
      "438/438 [==============================] - 5s 11ms/step - loss: 0.3147 - accuracy: 0.9002 - val_loss: 4.0735 - val_accuracy: 0.4096\n"
     ]
    }
   ],
   "source": [
    "# 학습설정\n",
    "model.compile(optimizer=Adam(learning_rate=0.0005), loss='categorical_crossentropy',\n",
    "              metrics=['accuracy'])\n",
    "# 학습시키기\n",
    "customHistory = CustomHistory(3)\n",
    "earlystopping = EarlyStopping(patience=30)\n",
    "hist = model.fit(X_train, y_train, validation_data=(X_test, y_test), epochs=100, callbacks=[customHistory,\n",
    "                                                                                             earlystopping], verbose=1)"
   ]
  },
  {
   "cell_type": "code",
   "execution_count": 23,
   "id": "9010da0b",
   "metadata": {},
   "outputs": [
    {
     "name": "stdout",
     "output_type": "stream",
     "text": [
      "188/188 [==============================] - 1s 4ms/step - loss: 4.0735 - accuracy: 0.4096\n",
      "accuracy : 40.96%\n"
     ]
    }
   ],
   "source": [
    "# 모델평가\n",
    "loss, accuracy = model.evaluate(X_test, y_test)\n",
    "print('accuracy : {:.2f}%'.format(accuracy*100))"
   ]
  },
  {
   "cell_type": "code",
   "execution_count": 13,
   "id": "18969f86",
   "metadata": {},
   "outputs": [
    {
     "data": {
      "image/png": "[encoded data removed]",
      "text/plain": [
       "<Figure size 1000x500 with 2 Axes>"
      ]
     },
     "metadata": {},
     "output_type": "display_data"
    }
   ],
   "source": [
    "# 학습과정 표시하기(validation dataset 있는 경우)\n",
    "fig, loss_ax = plt.subplots(figsize=(10,5))\n",
    "loss_ax.plot(hist.history['loss'], 'r', label='train loss')\n",
    "loss_ax.plot(hist.history['val_loss'], 'y', label='validation loss')\n",
    "loss_ax.set_xlabel('epoch')\n",
    "loss_ax.set_ylabel('loss')\n",
    "acc_ax = loss_ax.twinx()\n",
    "acc_ax.plot(hist.history['accuracy'], 'b', label='train accuracy')\n",
    "acc_ax.plot(hist.history['val_accuracy'], 'g', label='validation accuracy')\n",
    "acc_ax.set_ylabel('accuracy')\n",
    "loss_ax.legend(loc='center right')\n",
    "acc_ax.legend(bbox_to_anchor=(0.999, 0.7))\n",
    "plt.show()"
   ]
  },
  {
   "cell_type": "code",
   "execution_count": 33,
   "id": "bf26510c",
   "metadata": {},
   "outputs": [
    {
     "name": "stdout",
     "output_type": "stream",
     "text": [
      "모델 저장 완료\n"
     ]
    }
   ],
   "source": [
    "model.save(\"../team_project/data/cnn_alexnet_model.h5\")\n",
    "print(\"모델 저장 완료\")"
   ]
  },
  {
   "cell_type": "markdown",
   "id": "05cee6fd",
   "metadata": {},
   "source": [
    "# 3. VGGNet"
   ]
  },
  {
   "cell_type": "code",
   "execution_count": 12,
   "id": "25d0252e",
   "metadata": {},
   "outputs": [],
   "source": [
    "class VGGNet:\n",
    "    @staticmethod\n",
    "    def build(input_shape=(128, 128, 3), num_classes=len(y_train[0])):\n",
    "        model = Sequential()\n",
    "\n",
    "        # Convolution Block 1\n",
    "        model.add(Conv2D(32, (3, 3), activation='relu', padding='same', input_shape=input_shape))\n",
    "        model.add(Conv2D(32, (3, 3), activation='relu', padding='same'))\n",
    "        model.add(BatchNormalization())\n",
    "        model.add(MaxPooling2D(pool_size=(2, 2)))\n",
    "\n",
    "        # Convolution Block 2\n",
    "        model.add(Conv2D(64, (3, 3), activation='relu', padding='same'))\n",
    "        model.add(Conv2D(64, (3, 3), activation='relu', padding='same'))\n",
    "        model.add(BatchNormalization())\n",
    "        model.add(MaxPooling2D(pool_size=(2, 2)))\n",
    "\n",
    "        # Convolution Block 3\n",
    "        model.add(Conv2D(128, (3, 3), activation='relu', padding='same'))\n",
    "        model.add(Conv2D(128, (3, 3), activation='relu', padding='same'))\n",
    "        model.add(BatchNormalization())\n",
    "        model.add(MaxPooling2D(pool_size=(2, 2)))\n",
    "\n",
    "        # Fully Connected Layer\n",
    "        model.add(Flatten())\n",
    "        model.add(Dense(256, activation='relu'))\n",
    "        model.add(Dropout(0.5))\n",
    "        model.add(Dense(num_classes, activation='softmax'))\n",
    "\n",
    "        return model"
   ]
  },
  {
   "cell_type": "code",
   "execution_count": 14,
   "id": "78cc88fe",
   "metadata": {},
   "outputs": [
    {
     "name": "stdout",
     "output_type": "stream",
     "text": [
      "Model: \"sequential\"\n",
      "_________________________________________________________________\n",
      " Layer (type)                Output Shape              Param #   \n",
      "=================================================================\n",
      " conv2d (Conv2D)             (None, 128, 128, 32)      896       \n",
      "                                                                 \n",
      " conv2d_1 (Conv2D)           (None, 128, 128, 32)      9248      \n",
      "                                                                 \n",
      " batch_normalization (BatchN  (None, 128, 128, 32)     128       \n",
      " ormalization)                                                   \n",
      "                                                                 \n",
      " max_pooling2d (MaxPooling2D  (None, 64, 64, 32)       0         \n",
      " )                                                               \n",
      "                                                                 \n",
      " conv2d_2 (Conv2D)           (None, 64, 64, 64)        18496     \n",
      "                                                                 \n",
      " conv2d_3 (Conv2D)           (None, 64, 64, 64)        36928     \n",
      "                                                                 \n",
      " batch_normalization_1 (Batc  (None, 64, 64, 64)       256       \n",
      " hNormalization)                                                 \n",
      "                                                                 \n",
      " max_pooling2d_1 (MaxPooling  (None, 32, 32, 64)       0         \n",
      " 2D)                                                             \n",
      "                                                                 \n",
      " conv2d_4 (Conv2D)           (None, 32, 32, 128)       73856     \n",
      "                                                                 \n",
      " conv2d_5 (Conv2D)           (None, 32, 32, 128)       147584    \n",
      "                                                                 \n",
      " batch_normalization_2 (Batc  (None, 32, 32, 128)      512       \n",
      " hNormalization)                                                 \n",
      "                                                                 \n",
      " max_pooling2d_2 (MaxPooling  (None, 16, 16, 128)      0         \n",
      " 2D)                                                             \n",
      "                                                                 \n",
      " flatten (Flatten)           (None, 32768)             0         \n",
      "                                                                 \n",
      " dense (Dense)               (None, 256)               8388864   \n",
      "                                                                 \n",
      " dropout (Dropout)           (None, 256)               0         \n",
      "                                                                 \n",
      " dense_1 (Dense)             (None, 44)                11308     \n",
      "                                                                 \n",
      "=================================================================\n",
      "Total params: 8,688,076\n",
      "Trainable params: 8,687,628\n",
      "Non-trainable params: 448\n",
      "_________________________________________________________________\n"
     ]
    }
   ],
   "source": [
    "model = VGGNet.build(input_shape=(128, 128, 3))\n",
    "model.summary()"
   ]
  },
  {
   "cell_type": "code",
   "execution_count": 15,
   "id": "1292b522",
   "metadata": {},
   "outputs": [
    {
     "name": "stdout",
     "output_type": "stream",
     "text": [
      "Epoch 1/100\n",
      "  6/438 [..............................] - ETA: 24s - loss: 10.5252 - accuracy: 0.1615WARNING:tensorflow:Callback method `on_train_batch_end` is slow compared to the batch time (batch time: 0.0174s vs `on_train_batch_end` time: 0.0323s). Check your callbacks.\n",
      "438/438 [==============================] - 42s 63ms/step - loss: 3.4549 - accuracy: 0.2201 - val_loss: 2.7523 - val_accuracy: 0.2758\n",
      "Epoch 2/100\n",
      "438/438 [==============================] - 25s 58ms/step - loss: 2.8655 - accuracy: 0.2540 - val_loss: 2.8556 - val_accuracy: 0.2536\n",
      "Epoch 3/100\n",
      "437/438 [============================>.] - ETA: 0s - loss: 2.7173 - accuracy: 0.2688epoch:3, loss:2.7172720432281494, acc:0.2687879800796509, val_loss:2.580125331878662, val_acc:0.2771104574203491\n",
      "438/438 [==============================] - 26s 59ms/step - loss: 2.7173 - accuracy: 0.2688 - val_loss: 2.5801 - val_accuracy: 0.2771\n",
      "Epoch 4/100\n",
      "438/438 [==============================] - 26s 59ms/step - loss: 2.6155 - accuracy: 0.2846 - val_loss: 2.4104 - val_accuracy: 0.3318\n",
      "Epoch 5/100\n",
      "438/438 [==============================] - 26s 60ms/step - loss: 2.5332 - accuracy: 0.2945 - val_loss: 2.4059 - val_accuracy: 0.3267\n",
      "Epoch 6/100\n",
      "437/438 [============================>.] - ETA: 0s - loss: 2.4708 - accuracy: 0.3047epoch:6, loss:2.4706408977508545, acc:0.3047550916671753, val_loss:2.357222557067871, val_acc:0.3508508503437042\n",
      "438/438 [==============================] - 26s 59ms/step - loss: 2.4706 - accuracy: 0.3048 - val_loss: 2.3572 - val_accuracy: 0.3509\n",
      "Epoch 7/100\n",
      "438/438 [==============================] - 26s 60ms/step - loss: 2.4249 - accuracy: 0.3133 - val_loss: 2.3546 - val_accuracy: 0.3582\n",
      "Epoch 8/100\n",
      "438/438 [==============================] - 26s 59ms/step - loss: 2.3934 - accuracy: 0.3235 - val_loss: 2.3247 - val_accuracy: 0.3650\n",
      "Epoch 9/100\n",
      "437/438 [============================>.] - ETA: 0s - loss: 2.3416 - accuracy: 0.3318epoch:9, loss:2.341588258743286, acc:0.33178403973579407, val_loss:2.719837188720703, val_acc:0.31197863817214966\n",
      "438/438 [==============================] - 26s 60ms/step - loss: 2.3416 - accuracy: 0.3318 - val_loss: 2.7198 - val_accuracy: 0.3120\n",
      "Epoch 10/100\n",
      "438/438 [==============================] - 26s 60ms/step - loss: 2.2867 - accuracy: 0.3364 - val_loss: 2.3853 - val_accuracy: 0.3522\n",
      "Epoch 11/100\n",
      "438/438 [==============================] - 26s 60ms/step - loss: 2.2392 - accuracy: 0.3494 - val_loss: 2.2680 - val_accuracy: 0.3742\n",
      "Epoch 12/100\n",
      "437/438 [============================>.] - ETA: 0s - loss: 2.1847 - accuracy: 0.3604epoch:12, loss:2.18475341796875, acc:0.3603861331939697, val_loss:2.2737793922424316, val_acc:0.36670002341270447\n",
      "438/438 [==============================] - 26s 60ms/step - loss: 2.1848 - accuracy: 0.3604 - val_loss: 2.2738 - val_accuracy: 0.3667\n",
      "Epoch 13/100\n",
      "438/438 [==============================] - 26s 60ms/step - loss: 2.1277 - accuracy: 0.3688 - val_loss: 2.6197 - val_accuracy: 0.3652\n",
      "Epoch 14/100\n",
      "438/438 [==============================] - 26s 60ms/step - loss: 2.1012 - accuracy: 0.3756 - val_loss: 2.3509 - val_accuracy: 0.3777\n",
      "Epoch 15/100\n",
      "437/438 [============================>.] - ETA: 0s - loss: 2.0391 - accuracy: 0.3864epoch:15, loss:2.0391314029693604, acc:0.3864140212535858, val_loss:2.2743871212005615, val_acc:0.38555222749710083\n",
      "438/438 [==============================] - 26s 60ms/step - loss: 2.0391 - accuracy: 0.3864 - val_loss: 2.2744 - val_accuracy: 0.3856\n",
      "Epoch 16/100\n",
      "438/438 [==============================] - 26s 60ms/step - loss: 1.9803 - accuracy: 0.4005 - val_loss: 2.3986 - val_accuracy: 0.3570\n",
      "Epoch 17/100\n",
      "438/438 [==============================] - 26s 60ms/step - loss: 1.9187 - accuracy: 0.4095 - val_loss: 2.3906 - val_accuracy: 0.3759\n",
      "Epoch 18/100\n",
      "437/438 [============================>.] - ETA: 0s - loss: 1.8439 - accuracy: 0.4258epoch:18, loss:1.8439040184020996, acc:0.42574188113212585, val_loss:2.333252191543579, val_acc:0.37570905685424805\n",
      "438/438 [==============================] - 26s 60ms/step - loss: 1.8439 - accuracy: 0.4257 - val_loss: 2.3333 - val_accuracy: 0.3757\n",
      "Epoch 19/100\n",
      "438/438 [==============================] - 26s 60ms/step - loss: 1.8077 - accuracy: 0.4346 - val_loss: 2.4612 - val_accuracy: 0.3882\n",
      "Epoch 20/100\n",
      "438/438 [==============================] - 26s 60ms/step - loss: 1.7662 - accuracy: 0.4416 - val_loss: 2.4986 - val_accuracy: 0.3892\n",
      "Epoch 21/100\n",
      "437/438 [============================>.] - ETA: 0s - loss: 1.7152 - accuracy: 0.4592epoch:21, loss:1.7151445150375366, acc:0.45927780866622925, val_loss:2.643028736114502, val_acc:0.37587589025497437\n",
      "438/438 [==============================] - 26s 60ms/step - loss: 1.7151 - accuracy: 0.4593 - val_loss: 2.6430 - val_accuracy: 0.3759\n",
      "Epoch 22/100\n",
      "438/438 [==============================] - 26s 60ms/step - loss: 1.6805 - accuracy: 0.4634 - val_loss: 2.4454 - val_accuracy: 0.3887\n",
      "Epoch 23/100\n",
      "438/438 [==============================] - 26s 60ms/step - loss: 1.6823 - accuracy: 0.4691 - val_loss: 2.6509 - val_accuracy: 0.3739\n",
      "Epoch 24/100\n",
      "437/438 [============================>.] - ETA: 0s - loss: 1.6013 - accuracy: 0.4813epoch:24, loss:1.6014423370361328, acc:0.48122990131378174, val_loss:2.661911725997925, val_acc:0.3817150592803955\n",
      "438/438 [==============================] - 26s 60ms/step - loss: 1.6014 - accuracy: 0.4812 - val_loss: 2.6619 - val_accuracy: 0.3817\n",
      "Epoch 25/100\n",
      "438/438 [==============================] - 26s 60ms/step - loss: 1.5766 - accuracy: 0.4877 - val_loss: 2.4944 - val_accuracy: 0.3892\n",
      "Epoch 26/100\n",
      "438/438 [==============================] - 26s 60ms/step - loss: 1.5323 - accuracy: 0.5042 - val_loss: 2.8098 - val_accuracy: 0.3790\n",
      "Epoch 27/100\n",
      "437/438 [============================>.] - ETA: 0s - loss: 1.5331 - accuracy: 0.5055epoch:27, loss:1.5329809188842773, acc:0.5055416226387024, val_loss:2.542421340942383, val_acc:0.38288289308547974\n",
      "438/438 [==============================] - 26s 59ms/step - loss: 1.5330 - accuracy: 0.5055 - val_loss: 2.5424 - val_accuracy: 0.3829\n",
      "Epoch 28/100\n",
      "438/438 [==============================] - 26s 60ms/step - loss: 1.4608 - accuracy: 0.5266 - val_loss: 2.8405 - val_accuracy: 0.3764\n",
      "Epoch 29/100\n",
      "438/438 [==============================] - 26s 60ms/step - loss: 1.4855 - accuracy: 0.5167 - val_loss: 2.7883 - val_accuracy: 0.3810\n",
      "Epoch 30/100\n",
      "437/438 [============================>.] - ETA: 0s - loss: 1.4599 - accuracy: 0.5237epoch:30, loss:1.4599159955978394, acc:0.5237039923667908, val_loss:3.1199424266815186, val_acc:0.3860527276992798\n",
      "438/438 [==============================] - 26s 60ms/step - loss: 1.4599 - accuracy: 0.5237 - val_loss: 3.1199 - val_accuracy: 0.3861\n",
      "Epoch 31/100\n",
      "438/438 [==============================] - 26s 60ms/step - loss: 1.4253 - accuracy: 0.5349 - val_loss: 3.1624 - val_accuracy: 0.3896\n",
      "Epoch 32/100\n",
      "438/438 [==============================] - 26s 60ms/step - loss: 1.4038 - accuracy: 0.5358 - val_loss: 3.0631 - val_accuracy: 0.3872\n",
      "Epoch 33/100\n",
      "437/438 [============================>.] - ETA: 0s - loss: 1.4026 - accuracy: 0.5420epoch:33, loss:1.4027093648910522, acc:0.5420092940330505, val_loss:3.272571325302124, val_acc:0.38838839530944824\n",
      "438/438 [==============================] - 26s 60ms/step - loss: 1.4027 - accuracy: 0.5420 - val_loss: 3.2726 - val_accuracy: 0.3884\n",
      "Epoch 34/100\n",
      "438/438 [==============================] - 26s 60ms/step - loss: 1.3633 - accuracy: 0.5511 - val_loss: 3.0121 - val_accuracy: 0.3897\n",
      "Epoch 35/100\n",
      "438/438 [==============================] - 26s 60ms/step - loss: 1.3382 - accuracy: 0.5565 - val_loss: 2.9042 - val_accuracy: 0.3795\n",
      "Epoch 36/100\n",
      "437/438 [============================>.] - ETA: 0s - loss: 1.3199 - accuracy: 0.5652epoch:36, loss:1.3197880983352661, acc:0.5652484893798828, val_loss:3.872351884841919, val_acc:0.38555222749710083\n",
      "438/438 [==============================] - 26s 60ms/step - loss: 1.3198 - accuracy: 0.5652 - val_loss: 3.8724 - val_accuracy: 0.3856\n",
      "Epoch 37/100\n",
      "438/438 [==============================] - 26s 60ms/step - loss: 1.3018 - accuracy: 0.5685 - val_loss: 3.5616 - val_accuracy: 0.3962\n",
      "Epoch 38/100\n",
      "438/438 [==============================] - 26s 60ms/step - loss: 1.3106 - accuracy: 0.5702 - val_loss: 3.0018 - val_accuracy: 0.3730\n",
      "Epoch 39/100\n"
     ]
    },
    {
     "name": "stdout",
     "output_type": "stream",
     "text": [
      "437/438 [============================>.] - ETA: 0s - loss: 1.2907 - accuracy: 0.5762epoch:39, loss:1.2910364866256714, acc:0.5761888027191162, val_loss:3.2221343517303467, val_acc:0.3823823928833008\n",
      "438/438 [==============================] - 26s 59ms/step - loss: 1.2910 - accuracy: 0.5762 - val_loss: 3.2221 - val_accuracy: 0.3824\n",
      "Epoch 40/100\n",
      "438/438 [==============================] - 26s 60ms/step - loss: 1.3027 - accuracy: 0.5745 - val_loss: 3.2233 - val_accuracy: 0.3846\n",
      "Epoch 41/100\n",
      "438/438 [==============================] - 26s 60ms/step - loss: 1.2869 - accuracy: 0.5824 - val_loss: 3.1709 - val_accuracy: 0.3769\n"
     ]
    }
   ],
   "source": [
    "# 학습설정\n",
    "model.compile(optimizer=Adam(learning_rate=0.0005), loss='categorical_crossentropy',\n",
    "              metrics=['accuracy'])\n",
    "# 학습시키기\n",
    "customHistory = CustomHistory(3)\n",
    "earlystopping = EarlyStopping(patience=30)\n",
    "hist = model.fit(X_train, y_train, validation_data=(X_test, y_test), epochs=100, callbacks=[customHistory,\n",
    "                                                                                             earlystopping], verbose=1)"
   ]
  },
  {
   "cell_type": "code",
   "execution_count": 16,
   "id": "3b2a399d",
   "metadata": {},
   "outputs": [
    {
     "name": "stdout",
     "output_type": "stream",
     "text": [
      "188/188 [==============================] - 3s 15ms/step - loss: 3.1709 - accuracy: 0.3769\n",
      "accuracy : 37.69%\n"
     ]
    }
   ],
   "source": [
    "# 모델평가\n",
    "loss, accuracy = model.evaluate(X_test, y_test)\n",
    "print('accuracy : {:.2f}%'.format(accuracy*100))"
   ]
  },
  {
   "cell_type": "code",
   "execution_count": null,
   "id": "bf52d5db",
   "metadata": {},
   "outputs": [],
   "source": [
    "# 학습과정 표시하기(validation dataset 있는 경우)\n",
    "fig, loss_ax = plt.subplots(figsize=(10,5))\n",
    "loss_ax.plot(hist.history['loss'], 'r', label='train loss')\n",
    "loss_ax.plot(hist.history['val_loss'], 'y', label='validation loss')\n",
    "loss_ax.set_xlabel('epoch')\n",
    "loss_ax.set_ylabel('loss')\n",
    "acc_ax = loss_ax.twinx()\n",
    "acc_ax.plot(hist.history['accuracy'], 'b', label='train accuracy')\n",
    "acc_ax.plot(hist.history['val_accuracy'], 'g', label='validation accuracy')\n",
    "acc_ax.set_ylabel('accuracy')\n",
    "loss_ax.legend(loc='center right')\n",
    "acc_ax.legend(bbox_to_anchor=(0.999, 0.7))\n",
    "plt.show()"
   ]
  },
  {
   "cell_type": "code",
   "execution_count": null,
   "id": "3acb0420",
   "metadata": {},
   "outputs": [],
   "source": [
    "model.save(\"../team_project/data/cnn_vggnet_model.h5\")\n",
    "print(\"모델 저장 완료\")"
   ]
  },
  {
   "cell_type": "code",
   "execution_count": null,
   "id": "7e04dcdd",
   "metadata": {},
   "outputs": [],
   "source": []
  }
 ],
 "metadata": {
  "kernelspec": {
   "display_name": "Python 3 (ipykernel)",
   "language": "python",
   "name": "python3"
  },
  "language_info": {
   "codemirror_mode": {
    "name": "ipython",
    "version": 3
   },
   "file_extension": ".py",
   "mimetype": "text/x-python",
   "name": "python",
   "nbconvert_exporter": "python",
   "pygments_lexer": "ipython3",
   "version": "3.10.9"
  },
  "toc": {
   "base_numbering": 1,
   "nav_menu": {},
   "number_sections": true,
   "sideBar": true,
   "skip_h1_title": false,
   "title_cell": "Table of Contents",
   "title_sidebar": "Contents",
   "toc_cell": false,
   "toc_position": {
    "height": "calc(100% - 180px)",
    "left": "10px",
    "top": "150px",
    "width": "245.955px"
   },
   "toc_section_display": true,
   "toc_window_display": true
  }
 },
 "nbformat": 4,
 "nbformat_minor": 5
}
