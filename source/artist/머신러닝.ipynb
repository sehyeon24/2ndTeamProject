{
 "cells": [
  {
   "cell_type": "code",
   "execution_count": 38,
   "id": "d260a35d",
   "metadata": {},
   "outputs": [
    {
     "data": {
      "text/html": [
       "\n",
       "<style>\n",
       "div.CodeMirror {font-family:Consolas;}\n",
       "div#toc-wrapper{padding-top:120px;}\n",
       "span.toc-item-num{display:none;}\n",
       "</style>\n"
      ],
      "text/plain": [
       "<IPython.core.display.HTML object>"
      ]
     },
     "metadata": {},
     "output_type": "display_data"
    }
   ],
   "source": [
    "from IPython.display import display, HTML\n",
    "display(HTML(\"\"\"\n",
    "<style>\n",
    "div.CodeMirror {font-family:Consolas;}\n",
    "div#toc-wrapper{padding-top:120px;}\n",
    "span.toc-item-num{display:none;}\n",
    "</style>\n",
    "\"\"\"))"
   ]
  },
  {
   "cell_type": "code",
   "execution_count": 39,
   "id": "048bfd4d",
   "metadata": {},
   "outputs": [],
   "source": [
    "import numpy as np\n",
    "import pandas as pd\n",
    "import os\n",
    "from sklearn.preprocessing import LabelEncoder\n",
    "from sklearn.cluster import MiniBatchKMeans\n",
    "from tqdm import tqdm"
   ]
  },
  {
   "cell_type": "code",
   "execution_count": 40,
   "id": "e36e7bb3",
   "metadata": {},
   "outputs": [],
   "source": [
    "import tensorflow as tf\n",
    "\n",
    "# GPU 메모리를 점진적으로 할당하도록 설정\n",
    "gpus = tf.config.experimental.list_physical_devices('GPU')\n",
    "if gpus:\n",
    "    try:\n",
    "        for gpu in gpus:\n",
    "            tf.config.experimental.set_memory_growth(gpu, True)\n",
    "    except RuntimeError as e:\n",
    "        print(e)"
   ]
  },
  {
   "cell_type": "code",
   "execution_count": 41,
   "id": "5046752c",
   "metadata": {},
   "outputs": [],
   "source": [
    "import torch\n",
    "\n",
    "torch.cuda.empty_cache()  # GPU 메모리 정리"
   ]
  },
  {
   "cell_type": "code",
   "execution_count": 42,
   "id": "8f7e5ffe",
   "metadata": {},
   "outputs": [],
   "source": [
    "filepath=r'E:\\ai\\Downloads\\Data'"
   ]
  },
  {
   "cell_type": "code",
   "execution_count": 43,
   "id": "cfb86885",
   "metadata": {},
   "outputs": [],
   "source": [
    "X = np.load(os.path.join(filepath,'VGG_vectors.npy'))"
   ]
  },
  {
   "cell_type": "code",
   "execution_count": 44,
   "id": "e3dfc667",
   "metadata": {
    "scrolled": true
   },
   "outputs": [
    {
     "data": {
      "text/plain": [
       "0             vincent-van-gogh\n",
       "1                    rembrandt\n",
       "2                 paul-cezanne\n",
       "3        pierre-auguste-renoir\n",
       "4              ivan-aivazovsky\n",
       "                 ...          \n",
       "80153              mary-fedden\n",
       "80154          arman-manookian\n",
       "80155           andre-bauchant\n",
       "80156           ivan-generalic\n",
       "80157       natalia-goncharova\n",
       "Name: artist, Length: 80158, dtype: object"
      ]
     },
     "execution_count": 44,
     "metadata": {},
     "output_type": "execute_result"
    }
   ],
   "source": [
    "y = pd.read_csv(os.path.join(filepath,'painting.csv'))\n",
    "y = y['artist']\n",
    "y"
   ]
  },
  {
   "cell_type": "code",
   "execution_count": 45,
   "id": "4243e060",
   "metadata": {
    "scrolled": true
   },
   "outputs": [
    {
     "name": "stdout",
     "output_type": "stream",
     "text": [
      "vincent-van-gogh         1887\n",
      "nicholas-roerich         1859\n",
      "pierre-auguste-renoir    1400\n",
      "claude-monet             1333\n",
      "pyotr-konchalovsky        989\n",
      "                         ... \n",
      "remedios-varo               1\n",
      "thomas-downing              1\n",
      "roman-opalka                1\n",
      "takashi-murakami            1\n",
      "frida-kahlo                 1\n",
      "Name: artist, Length: 1104, dtype: int64\n"
     ]
    }
   ],
   "source": [
    "# 화가 이름별 갯수 계산\n",
    "artist_counts = pd.Series(y).value_counts()\n",
    "\n",
    "# 결과 출력\n",
    "print(artist_counts)"
   ]
  },
  {
   "cell_type": "code",
   "execution_count": 46,
   "id": "bf0a6b4a",
   "metadata": {},
   "outputs": [
    {
     "name": "stdout",
     "output_type": "stream",
     "text": [
      "Balanced X shape: (499008, 512)\n",
      "Balanced y shape: (499008,)\n"
     ]
    }
   ],
   "source": [
    "# 목표 데이터 개수 설정\n",
    "target_total_samples = 500000\n",
    "num_artists = len(artist_counts)\n",
    "\n",
    "# 각 화가별 목표 샘플 수 (균등 분배)\n",
    "target_per_artist = target_total_samples // num_artists\n",
    "\n",
    "X_balanced = []\n",
    "y_balanced = []\n",
    "\n",
    "for artist, count in artist_counts.items():\n",
    "    artist_indices = np.where(y == artist)[0]\n",
    "    artist_data = X[artist_indices]\n",
    "    \n",
    "    if count > target_per_artist:\n",
    "        # 데이터가 많으면 랜덤 샘플링\n",
    "        selected_indices = np.random.choice(count, target_per_artist, replace=False)\n",
    "        balanced_artist_data = artist_data[selected_indices]\n",
    "    else:\n",
    "        # 데이터가 부족하면 복제하여 target_per_artist에 맞추기\n",
    "        replication_factor = target_per_artist // count\n",
    "        remaining_data = target_per_artist % count\n",
    "\n",
    "        balanced_artist_data = np.tile(artist_data, (replication_factor, 1))\n",
    "        if remaining_data > 0:\n",
    "            balanced_artist_data = np.vstack([balanced_artist_data, artist_data[:remaining_data]])\n",
    "\n",
    "    # 결과 리스트에 추가\n",
    "    X_balanced.append(balanced_artist_data)\n",
    "    y_balanced.append([artist] * len(balanced_artist_data))\n",
    "\n",
    "# 리스트를 배열로 변환\n",
    "X_balanced = np.vstack(X_balanced)\n",
    "y_balanced = np.concatenate(y_balanced)\n",
    "\n",
    "# 결과 출력\n",
    "print(f\"Balanced X shape: {X_balanced.shape}\")\n",
    "print(f\"Balanced y shape: {y_balanced.shape}\")\n"
   ]
  },
  {
   "cell_type": "code",
   "execution_count": 47,
   "id": "c91dca8e",
   "metadata": {},
   "outputs": [],
   "source": [
    "X=X_balanced\n",
    "y=y_balanced"
   ]
  },
  {
   "cell_type": "code",
   "execution_count": 48,
   "id": "5e98e785",
   "metadata": {},
   "outputs": [],
   "source": [
    "# X와 y 결합\n",
    "data = pd.DataFrame(X)\n",
    "data['artist'] = y\n",
    "\n",
    "# artist 컬럼을 기준으로 정렬\n",
    "data_sorted = data.sort_values(by='artist')\n",
    "\n",
    "# 정렬된 데이터를 X와 y로 다시 나누기\n",
    "X_sorted = data_sorted.drop(columns='artist').values\n",
    "y_sorted = data_sorted['artist'].values"
   ]
  },
  {
   "cell_type": "code",
   "execution_count": 49,
   "id": "55ed667b",
   "metadata": {},
   "outputs": [],
   "source": [
    "X=X_sorted\n",
    "y=y_sorted"
   ]
  },
  {
   "cell_type": "code",
   "execution_count": 50,
   "id": "beee66e1",
   "metadata": {
    "scrolled": false
   },
   "outputs": [
    {
     "data": {
      "text/plain": [
       "(array(['a.y.-jackson', 'a.y.-jackson', 'a.y.-jackson', ...,\n",
       "        'zinaida-serebriakova', 'zinaida-serebriakova',\n",
       "        'zinaida-serebriakova'], dtype=object),\n",
       " array([   0,    0,    0, ..., 1103, 1103, 1103]))"
      ]
     },
     "execution_count": 50,
     "metadata": {},
     "output_type": "execute_result"
    }
   ],
   "source": [
    "le = LabelEncoder()\n",
    "y_enc = le.fit_transform(y)\n",
    "y[::50], y_enc[::50]"
   ]
  },
  {
   "cell_type": "code",
   "execution_count": 51,
   "id": "937a09ff",
   "metadata": {
    "scrolled": true
   },
   "outputs": [
    {
     "name": "stderr",
     "output_type": "stream",
     "text": [
      "Clustering Progress: 100%|███████████████████████████████████████████████████████████| 100/100 [03:23<00:00,  2.04s/it]\n"
     ]
    }
   ],
   "source": [
    "# 클러스터 개수 설정\n",
    "n_clusters = y_enc.max() + 1  \n",
    "\n",
    "# MiniBatchKMeans 사용\n",
    "model = MiniBatchKMeans(n_clusters=n_clusters, random_state=1, n_init=10, batch_size=1024)\n",
    "\n",
    "# tqdm을 사용하여 진행률 표시\n",
    "for i in tqdm(range(100), desc=\"Clustering Progress\"):\n",
    "    model.partial_fit(X)  # 점진적으로 학습 진행\n",
    "\n",
    "# 최종 클러스터링 결과\n",
    "labels = model.predict(X)"
   ]
  },
  {
   "cell_type": "code",
   "execution_count": 52,
   "id": "e315ea42",
   "metadata": {},
   "outputs": [
    {
     "data": {
      "text/plain": [
       "True"
      ]
     },
     "execution_count": 52,
     "metadata": {},
     "output_type": "execute_result"
    }
   ],
   "source": [
    "pred = model.predict(X)\n",
    "all(pred == model.labels_)"
   ]
  },
  {
   "cell_type": "code",
   "execution_count": 53,
   "id": "bcb6383f",
   "metadata": {},
   "outputs": [
    {
     "data": {
      "text/plain": [
       "array([ 788,  561,  105, ..., 1008,  693,  373])"
      ]
     },
     "execution_count": 53,
     "metadata": {},
     "output_type": "execute_result"
    }
   ],
   "source": [
    "pred"
   ]
  },
  {
   "cell_type": "code",
   "execution_count": null,
   "id": "2da545f9",
   "metadata": {},
   "outputs": [],
   "source": []
  }
 ],
 "metadata": {
  "kernelspec": {
   "display_name": "Python 3 (ipykernel)",
   "language": "python",
   "name": "python3"
  },
  "language_info": {
   "codemirror_mode": {
    "name": "ipython",
    "version": 3
   },
   "file_extension": ".py",
   "mimetype": "text/x-python",
   "name": "python",
   "nbconvert_exporter": "python",
   "pygments_lexer": "ipython3",
   "version": "3.10.9"
  }
 },
 "nbformat": 4,
 "nbformat_minor": 5
}
