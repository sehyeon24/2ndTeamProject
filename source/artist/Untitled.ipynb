{
 "cells": [
  {
   "cell_type": "code",
   "execution_count": 1,
   "id": "bfbd9b8f",
   "metadata": {},
   "outputs": [],
   "source": [
    "import os\n",
    "import numpy as np\n",
    "import pandas as pd\n",
    "import tensorflow as tf\n",
    "from sklearn.model_selection import train_test_split\n",
    "from sklearn.preprocessing import LabelEncoder\n",
    "from tensorflow.keras.utils import to_categorical\n",
    "from tensorflow.keras.layers import Dense, Dropout, BatchNormalization\n",
    "from tensorflow.keras.callbacks import EarlyStopping\n",
    "#\n",
    "from tensorflow.keras.callbacks import ReduceLROnPlateau\n",
    "from tensorflow.keras.preprocessing.image import ImageDataGenerator\n",
    "from tensorflow.keras.models import Sequential\n",
    "from tensorflow.keras.layers import Conv2D, MaxPooling2D, Flatten, Dense\n",
    "from tensorflow.keras.optimizers import Adam"
   ]
  },
  {
   "cell_type": "code",
   "execution_count": 2,
   "id": "916f5b92",
   "metadata": {},
   "outputs": [],
   "source": [
    "filepath=r'E:\\ai\\Downloads\\Data'"
   ]
  },
  {
   "cell_type": "code",
   "execution_count": 3,
   "id": "f8b2970d",
   "metadata": {},
   "outputs": [
    {
     "data": {
      "text/html": [
       "<div>\n",
       "<style scoped>\n",
       "    .dataframe tbody tr th:only-of-type {\n",
       "        vertical-align: middle;\n",
       "    }\n",
       "\n",
       "    .dataframe tbody tr th {\n",
       "        vertical-align: top;\n",
       "    }\n",
       "\n",
       "    .dataframe thead th {\n",
       "        text-align: right;\n",
       "    }\n",
       "</style>\n",
       "<table border=\"1\" class=\"dataframe\">\n",
       "  <thead>\n",
       "    <tr style=\"text-align: right;\">\n",
       "      <th></th>\n",
       "      <th>file</th>\n",
       "      <th>title</th>\n",
       "      <th>artist</th>\n",
       "      <th>genre</th>\n",
       "      <th>style</th>\n",
       "    </tr>\n",
       "  </thead>\n",
       "  <tbody>\n",
       "    <tr>\n",
       "      <th>0</th>\n",
       "      <td>Realism/vincent-van-gogh_pine-trees-in-the-fen...</td>\n",
       "      <td>pine-trees-in-the-fen-1884</td>\n",
       "      <td>vincent-van-gogh</td>\n",
       "      <td>landscape</td>\n",
       "      <td>Realism</td>\n",
       "    </tr>\n",
       "    <tr>\n",
       "      <th>1</th>\n",
       "      <td>Baroque/rembrandt_the-angel-appearing-to-the-s...</td>\n",
       "      <td>the-angel-appearing-to-the-shepherds-1634</td>\n",
       "      <td>rembrandt</td>\n",
       "      <td>religious painting</td>\n",
       "      <td>Baroque</td>\n",
       "    </tr>\n",
       "    <tr>\n",
       "      <th>2</th>\n",
       "      <td>Post_Impressionism/paul-cezanne_portrait-of-th...</td>\n",
       "      <td>portrait-of-the-artist-s-son</td>\n",
       "      <td>paul-cezanne</td>\n",
       "      <td>portrait</td>\n",
       "      <td>Post_Impressionism</td>\n",
       "    </tr>\n",
       "    <tr>\n",
       "      <th>3</th>\n",
       "      <td>Impressionism/pierre-auguste-renoir_young-girl...</td>\n",
       "      <td>young-girl-seated-in-a-meadow-1916</td>\n",
       "      <td>pierre-auguste-renoir</td>\n",
       "      <td>genre painting</td>\n",
       "      <td>Impressionism</td>\n",
       "    </tr>\n",
       "    <tr>\n",
       "      <th>4</th>\n",
       "      <td>Romanticism/ivan-aivazovsky_morning-1851.jpg</td>\n",
       "      <td>morning-1851</td>\n",
       "      <td>ivan-aivazovsky</td>\n",
       "      <td>marina</td>\n",
       "      <td>Romanticism</td>\n",
       "    </tr>\n",
       "  </tbody>\n",
       "</table>\n",
       "</div>"
      ],
      "text/plain": [
       "                                                file  \\\n",
       "0  Realism/vincent-van-gogh_pine-trees-in-the-fen...   \n",
       "1  Baroque/rembrandt_the-angel-appearing-to-the-s...   \n",
       "2  Post_Impressionism/paul-cezanne_portrait-of-th...   \n",
       "3  Impressionism/pierre-auguste-renoir_young-girl...   \n",
       "4       Romanticism/ivan-aivazovsky_morning-1851.jpg   \n",
       "\n",
       "                                       title                 artist  \\\n",
       "0                 pine-trees-in-the-fen-1884       vincent-van-gogh   \n",
       "1  the-angel-appearing-to-the-shepherds-1634              rembrandt   \n",
       "2               portrait-of-the-artist-s-son           paul-cezanne   \n",
       "3         young-girl-seated-in-a-meadow-1916  pierre-auguste-renoir   \n",
       "4                               morning-1851        ivan-aivazovsky   \n",
       "\n",
       "                genre               style  \n",
       "0           landscape             Realism  \n",
       "1  religious painting             Baroque  \n",
       "2            portrait  Post_Impressionism  \n",
       "3      genre painting       Impressionism  \n",
       "4              marina         Romanticism  "
      ]
     },
     "execution_count": 3,
     "metadata": {},
     "output_type": "execute_result"
    }
   ],
   "source": [
    "painting = pd.read_csv(os.path.join(filepath,'painting.csv'))\n",
    "painting.head()"
   ]
  },
  {
   "cell_type": "code",
   "execution_count": 4,
   "id": "54cf152b",
   "metadata": {},
   "outputs": [
    {
     "data": {
      "text/plain": [
       "(80158, 128, 128, 3)"
      ]
     },
     "execution_count": 4,
     "metadata": {},
     "output_type": "execute_result"
    }
   ],
   "source": [
    "painting_lst = np.load(os.path.join(filepath,'data.npy'))\n",
    "painting_lst.shape"
   ]
  },
  {
   "cell_type": "code",
   "execution_count": 5,
   "id": "fa5b69da",
   "metadata": {},
   "outputs": [],
   "source": [
    "# 1. X, y 데이터 준비 (painting_lst와 painting['style'])\n",
    "X = painting_lst  # (80158, height, width, channels) 형태\n",
    "y = painting['style']  # 스타일 정보 (문자형 라벨)"
   ]
  },
  {
   "cell_type": "code",
   "execution_count": 6,
   "id": "74074ab3",
   "metadata": {},
   "outputs": [],
   "source": [
    "# 2. 문자열 라벨을 숫자 라벨로 변환\n",
    "label_encoder = LabelEncoder()\n",
    "y_encoded = label_encoder.fit_transform(y)  # 문자열 라벨을 숫자로 변환\n",
    "\n",
    "# 3. 숫자 라벨을 원-핫 인코딩\n",
    "y_one_hot = to_categorical(y_encoded, num_classes=len(label_encoder.classes_))"
   ]
  },
  {
   "cell_type": "code",
   "execution_count": 7,
   "id": "11db203d",
   "metadata": {},
   "outputs": [
    {
     "data": {
      "text/plain": [
       "((64126, 128, 128, 3), (16032, 128, 128, 3), (64126, 27), (16032, 27))"
      ]
     },
     "execution_count": 7,
     "metadata": {},
     "output_type": "execute_result"
    }
   ],
   "source": [
    "# 4. 이미지를 1차원 배열로 변환 (모든 이미지를 1차원 벡터로 변경)\n",
    "# X_flattened = X.reshape(X.shape[0], -1)  # X는 (80158, height, width, channels), 이걸 (80158, height*width*channels)로 바꿈\n",
    "\n",
    "# 5. 훈련용과 테스트용 데이터로 분리\n",
    "X_train, X_test, y_train, y_test = train_test_split(X, y_one_hot, test_size=0.2, random_state=42)\n",
    "X_train.shape, X_test.shape, y_train.shape, y_test.shape"
   ]
  },
  {
   "cell_type": "code",
   "execution_count": 8,
   "id": "941a33be",
   "metadata": {},
   "outputs": [
    {
     "name": "stdout",
     "output_type": "stream",
     "text": [
      "Model: \"sequential\"\n",
      "_________________________________________________________________\n",
      " Layer (type)                Output Shape              Param #   \n",
      "=================================================================\n",
      " conv2d (Conv2D)             (None, 126, 126, 32)      896       \n",
      "                                                                 \n",
      " max_pooling2d (MaxPooling2D  (None, 63, 63, 32)       0         \n",
      " )                                                               \n",
      "                                                                 \n",
      " conv2d_1 (Conv2D)           (None, 61, 61, 64)        18496     \n",
      "                                                                 \n",
      " max_pooling2d_1 (MaxPooling  (None, 30, 30, 64)       0         \n",
      " 2D)                                                             \n",
      "                                                                 \n",
      " conv2d_2 (Conv2D)           (None, 28, 28, 128)       73856     \n",
      "                                                                 \n",
      " max_pooling2d_2 (MaxPooling  (None, 14, 14, 128)      0         \n",
      " 2D)                                                             \n",
      "                                                                 \n",
      " flatten (Flatten)           (None, 25088)             0         \n",
      "                                                                 \n",
      " dense (Dense)               (None, 512)               12845568  \n",
      "                                                                 \n",
      " batch_normalization (BatchN  (None, 512)              2048      \n",
      " ormalization)                                                   \n",
      "                                                                 \n",
      " dropout (Dropout)           (None, 512)               0         \n",
      "                                                                 \n",
      " dense_1 (Dense)             (None, 256)               131328    \n",
      "                                                                 \n",
      " dropout_1 (Dropout)         (None, 256)               0         \n",
      "                                                                 \n",
      " dense_2 (Dense)             (None, 128)               32896     \n",
      "                                                                 \n",
      " dense_3 (Dense)             (None, 27)                3483      \n",
      "                                                                 \n",
      "=================================================================\n",
      "Total params: 13,108,571\n",
      "Trainable params: 13,107,547\n",
      "Non-trainable params: 1,024\n",
      "_________________________________________________________________\n"
     ]
    }
   ],
   "source": [
    "from tensorflow.keras.models import Sequential\n",
    "from tensorflow.keras.layers import Conv2D, MaxPooling2D, Flatten, Dense, BatchNormalization, Dropout\n",
    "from tensorflow.keras.callbacks import EarlyStopping\n",
    "import tensorflow as tf\n",
    "\n",
    "# 6. CNN 모델 정의\n",
    "model = tf.keras.Sequential([\n",
    "    # 첫 번째 합성곱 레이어 (Conv2D)\n",
    "    Conv2D(32, (3, 3), activation='relu', input_shape=(128, 128, 3)),  # 이미지 크기와 채널 수에 맞게 설정\n",
    "    MaxPooling2D(pool_size=(2, 2)),  # 풀링 레이어로 특징 맵의 크기 줄이기\n",
    "    \n",
    "    # 두 번째 합성곱 레이어\n",
    "    Conv2D(64, (3, 3), activation='relu'),\n",
    "    MaxPooling2D(pool_size=(2, 2)),\n",
    "    \n",
    "    # 세 번째 합성곱 레이어\n",
    "    Conv2D(128, (3, 3), activation='relu'),\n",
    "    MaxPooling2D(pool_size=(2, 2)),\n",
    "    \n",
    "    # 평탄화 레이어 (Dense 레이어를 사용하기 위해)\n",
    "    Flatten(),\n",
    "    \n",
    "    # 완전 연결 레이어 (Fully Connected)\n",
    "    Dense(512, activation='relu'),\n",
    "    BatchNormalization(),\n",
    "    Dropout(0.5),  # 과적합 방지를 위한 드롭아웃\n",
    "    Dense(256, activation='relu'),\n",
    "    Dropout(0.5),\n",
    "    Dense(128, activation='relu'),\n",
    "    \n",
    "    # 출력 레이어 (Softmax)\n",
    "    Dense(len(y_train[0]), activation='softmax')  # 클래스 수에 맞게 출력 유닛 설정\n",
    "])\n",
    "model.summary()"
   ]
  },
  {
   "cell_type": "code",
   "execution_count": 9,
   "id": "366322c8",
   "metadata": {},
   "outputs": [],
   "source": [
    "# 7. 모델 컴파일\n",
    "model.compile(optimizer='adam', loss='categorical_crossentropy', metrics=['accuracy'])"
   ]
  },
  {
   "cell_type": "code",
   "execution_count": 10,
   "id": "67ea4479",
   "metadata": {
    "scrolled": true
   },
   "outputs": [
    {
     "name": "stdout",
     "output_type": "stream",
     "text": [
      "Epoch 1/300\n",
      "2004/2004 [==============================] - 39s 17ms/step - loss: 2.7072 - accuracy: 0.1813 - val_loss: 2.7648 - val_accuracy: 0.2156\n",
      "Epoch 2/300\n",
      "2004/2004 [==============================] - 33s 16ms/step - loss: 2.5727 - accuracy: 0.2061 - val_loss: 2.5289 - val_accuracy: 0.2431\n",
      "Epoch 3/300\n",
      "2004/2004 [==============================] - 33s 17ms/step - loss: 2.4524 - accuracy: 0.2370 - val_loss: 6.8421 - val_accuracy: 0.1637\n",
      "Epoch 4/300\n",
      "2004/2004 [==============================] - 33s 16ms/step - loss: 2.4462 - accuracy: 0.2382 - val_loss: 2.3790 - val_accuracy: 0.2705\n",
      "Epoch 5/300\n",
      "2004/2004 [==============================] - 33s 16ms/step - loss: 2.5112 - accuracy: 0.2239 - val_loss: 3.7773 - val_accuracy: 0.2413\n",
      "Epoch 6/300\n",
      "2004/2004 [==============================] - 33s 16ms/step - loss: 2.4343 - accuracy: 0.2410 - val_loss: 7.2610 - val_accuracy: 0.0308\n",
      "Epoch 7/300\n",
      "2004/2004 [==============================] - 33s 16ms/step - loss: 2.3904 - accuracy: 0.2511 - val_loss: 2.5033 - val_accuracy: 0.2744\n",
      "Epoch 8/300\n",
      "2004/2004 [==============================] - 33s 17ms/step - loss: 2.4217 - accuracy: 0.2473 - val_loss: 2.8956 - val_accuracy: 0.1954\n",
      "Epoch 9/300\n",
      "2004/2004 [==============================] - 247s 123ms/step - loss: 2.5388 - accuracy: 0.2161 - val_loss: 8.0103 - val_accuracy: 0.2203\n",
      "Epoch 10/300\n",
      "2004/2004 [==============================] - 168s 84ms/step - loss: 2.4436 - accuracy: 0.2361 - val_loss: 3.5182 - val_accuracy: 0.2617\n",
      "Epoch 11/300\n",
      "2004/2004 [==============================] - 238s 119ms/step - loss: 2.3744 - accuracy: 0.2530 - val_loss: 11.9358 - val_accuracy: 0.2620\n",
      "Epoch 12/300\n",
      "2004/2004 [==============================] - 219s 108ms/step - loss: 2.3270 - accuracy: 0.2668 - val_loss: 8.6163 - val_accuracy: 0.2784\n",
      "Epoch 13/300\n",
      "2004/2004 [==============================] - 199s 99ms/step - loss: 2.2943 - accuracy: 0.2735 - val_loss: 9.8973 - val_accuracy: 0.2818\n",
      "Epoch 14/300\n",
      "2004/2004 [==============================] - 209s 104ms/step - loss: 2.2539 - accuracy: 0.2868 - val_loss: 3.6531 - val_accuracy: 0.3081\n",
      "Epoch 15/300\n",
      "2004/2004 [==============================] - 137s 69ms/step - loss: 2.2149 - accuracy: 0.2956 - val_loss: 2.3711 - val_accuracy: 0.2788\n",
      "Epoch 16/300\n",
      "2004/2004 [==============================] - 34s 17ms/step - loss: 2.1807 - accuracy: 0.3075 - val_loss: 4.6846 - val_accuracy: 0.3067\n",
      "Epoch 17/300\n",
      "2004/2004 [==============================] - 33s 17ms/step - loss: 2.1488 - accuracy: 0.3152 - val_loss: 2.2732 - val_accuracy: 0.2976\n",
      "Epoch 18/300\n",
      "2004/2004 [==============================] - 33s 16ms/step - loss: 2.1951 - accuracy: 0.3043 - val_loss: 7.1277 - val_accuracy: 0.2826\n",
      "Epoch 19/300\n",
      "2004/2004 [==============================] - 33s 16ms/step - loss: 2.1889 - accuracy: 0.3041 - val_loss: 7.9716 - val_accuracy: 0.3122\n",
      "Epoch 20/300\n",
      "2004/2004 [==============================] - 33s 17ms/step - loss: 2.1290 - accuracy: 0.3216 - val_loss: 4.2097 - val_accuracy: 0.3345\n",
      "Epoch 21/300\n",
      "2004/2004 [==============================] - 33s 17ms/step - loss: 2.2582 - accuracy: 0.2892 - val_loss: 15.1235 - val_accuracy: 0.2628\n",
      "Epoch 22/300\n",
      "2004/2004 [==============================] - 33s 17ms/step - loss: 2.2879 - accuracy: 0.2757 - val_loss: 2.4144 - val_accuracy: 0.2899\n",
      "Epoch 23/300\n",
      "2004/2004 [==============================] - 34s 17ms/step - loss: 2.1780 - accuracy: 0.3070 - val_loss: 8.9067 - val_accuracy: 0.2994\n",
      "Epoch 24/300\n",
      "2004/2004 [==============================] - 33s 17ms/step - loss: 2.1142 - accuracy: 0.3268 - val_loss: 6.9023 - val_accuracy: 0.3167\n",
      "Epoch 25/300\n",
      "2004/2004 [==============================] - 33s 17ms/step - loss: 2.0621 - accuracy: 0.3387 - val_loss: 2.3013 - val_accuracy: 0.3388\n",
      "Epoch 26/300\n",
      "2004/2004 [==============================] - 33s 16ms/step - loss: 2.0514 - accuracy: 0.3455 - val_loss: 4.2349 - val_accuracy: 0.0498\n",
      "Epoch 27/300\n",
      "2004/2004 [==============================] - 33s 17ms/step - loss: 2.1958 - accuracy: 0.3052 - val_loss: 10.2909 - val_accuracy: 0.3228\n",
      "Epoch 28/300\n",
      "2004/2004 [==============================] - 34s 17ms/step - loss: 2.0502 - accuracy: 0.3443 - val_loss: 4.7441 - val_accuracy: 0.3314\n",
      "Epoch 29/300\n",
      "2004/2004 [==============================] - 34s 17ms/step - loss: 1.9992 - accuracy: 0.3617 - val_loss: 2.4119 - val_accuracy: 0.3347\n",
      "Epoch 30/300\n",
      "2004/2004 [==============================] - 34s 17ms/step - loss: 1.9682 - accuracy: 0.3690 - val_loss: 2.2318 - val_accuracy: 0.3408\n",
      "Epoch 31/300\n",
      "2004/2004 [==============================] - 33s 16ms/step - loss: 1.9414 - accuracy: 0.3787 - val_loss: 6.4387 - val_accuracy: 0.3509\n",
      "Epoch 32/300\n",
      "2004/2004 [==============================] - 33s 17ms/step - loss: 1.9093 - accuracy: 0.3858 - val_loss: 13.4985 - val_accuracy: 0.3357\n",
      "Epoch 33/300\n",
      "2004/2004 [==============================] - 33s 17ms/step - loss: 1.8673 - accuracy: 0.3985 - val_loss: 18.3142 - val_accuracy: 0.3298\n",
      "Epoch 34/300\n",
      "2004/2004 [==============================] - 33s 17ms/step - loss: 1.8408 - accuracy: 0.4069 - val_loss: 4.1711 - val_accuracy: 0.3515\n",
      "Epoch 35/300\n",
      "2004/2004 [==============================] - 33s 16ms/step - loss: 1.7972 - accuracy: 0.4214 - val_loss: 2.5633 - val_accuracy: 0.3456\n",
      "Epoch 36/300\n",
      "2004/2004 [==============================] - 33s 16ms/step - loss: 1.7650 - accuracy: 0.4299 - val_loss: 8.0630 - val_accuracy: 0.3404\n",
      "Epoch 37/300\n",
      "2004/2004 [==============================] - 33s 16ms/step - loss: 1.7324 - accuracy: 0.4368 - val_loss: 4.2833 - val_accuracy: 0.3286\n",
      "Epoch 38/300\n",
      "2004/2004 [==============================] - 33s 17ms/step - loss: 1.7005 - accuracy: 0.4503 - val_loss: 2.9617 - val_accuracy: 0.3522\n",
      "Epoch 39/300\n",
      "2004/2004 [==============================] - 33s 17ms/step - loss: 2.1562 - accuracy: 0.3207 - val_loss: 2.4416 - val_accuracy: 0.2687\n",
      "Epoch 40/300\n",
      "2004/2004 [==============================] - 33s 17ms/step - loss: 2.1226 - accuracy: 0.3255 - val_loss: 2.2853 - val_accuracy: 0.3252\n",
      "Epoch 41/300\n",
      "2004/2004 [==============================] - 33s 17ms/step - loss: 1.7822 - accuracy: 0.4282 - val_loss: 7.4694 - val_accuracy: 0.3371\n",
      "Epoch 42/300\n",
      "2004/2004 [==============================] - 33s 17ms/step - loss: 1.6500 - accuracy: 0.4657 - val_loss: 3.2575 - val_accuracy: 0.3346\n",
      "Epoch 43/300\n",
      "2004/2004 [==============================] - 33s 17ms/step - loss: 1.6111 - accuracy: 0.4774 - val_loss: 2.5769 - val_accuracy: 0.3421\n",
      "Epoch 44/300\n",
      "2004/2004 [==============================] - 33s 17ms/step - loss: 1.6136 - accuracy: 0.4798 - val_loss: 2.3456 - val_accuracy: 0.3429\n",
      "Epoch 45/300\n",
      "2004/2004 [==============================] - 33s 17ms/step - loss: 1.5417 - accuracy: 0.4983 - val_loss: 3.6187 - val_accuracy: 0.3496\n",
      "Epoch 46/300\n",
      "2004/2004 [==============================] - 33s 17ms/step - loss: 1.5033 - accuracy: 0.5126 - val_loss: 3.2779 - val_accuracy: 0.3358\n",
      "Epoch 47/300\n",
      "2004/2004 [==============================] - 33s 17ms/step - loss: 1.4755 - accuracy: 0.5176 - val_loss: 3.1480 - val_accuracy: 0.3459\n",
      "Epoch 48/300\n",
      "2004/2004 [==============================] - 33s 17ms/step - loss: 1.4548 - accuracy: 0.5273 - val_loss: 5.1110 - val_accuracy: 0.3333\n",
      "Epoch 49/300\n",
      "2004/2004 [==============================] - 33s 17ms/step - loss: 1.4122 - accuracy: 0.5372 - val_loss: 2.8224 - val_accuracy: 0.3440\n",
      "Epoch 50/300\n",
      "2004/2004 [==============================] - 34s 17ms/step - loss: 1.3707 - accuracy: 0.5535 - val_loss: 2.6384 - val_accuracy: 0.3379\n",
      "Epoch 51/300\n",
      "2004/2004 [==============================] - 34s 17ms/step - loss: 1.6260 - accuracy: 0.4818 - val_loss: 2.3860 - val_accuracy: 0.2778\n",
      "Epoch 52/300\n",
      "2004/2004 [==============================] - 33s 17ms/step - loss: 1.4569 - accuracy: 0.5286 - val_loss: 4.3382 - val_accuracy: 0.3271\n",
      "Epoch 53/300\n",
      "2004/2004 [==============================] - 33s 17ms/step - loss: 1.3256 - accuracy: 0.5679 - val_loss: 4.6917 - val_accuracy: 0.0913\n",
      "Epoch 54/300\n",
      "2004/2004 [==============================] - 33s 17ms/step - loss: 1.6475 - accuracy: 0.4758 - val_loss: 3.8086 - val_accuracy: 0.3340\n",
      "Epoch 55/300\n",
      "2004/2004 [==============================] - 33s 17ms/step - loss: 1.3108 - accuracy: 0.5754 - val_loss: 5.5639 - val_accuracy: 0.3398\n",
      "Epoch 56/300\n"
     ]
    },
    {
     "name": "stdout",
     "output_type": "stream",
     "text": [
      "2004/2004 [==============================] - 33s 16ms/step - loss: 1.3474 - accuracy: 0.5641 - val_loss: 4.1982 - val_accuracy: 0.3379\n",
      "Epoch 57/300\n",
      "2004/2004 [==============================] - 33s 16ms/step - loss: 1.2245 - accuracy: 0.5999 - val_loss: 3.9222 - val_accuracy: 0.3233\n",
      "Epoch 58/300\n",
      "2004/2004 [==============================] - 33s 16ms/step - loss: 1.1936 - accuracy: 0.6126 - val_loss: 2.9795 - val_accuracy: 0.3244\n",
      "Epoch 59/300\n",
      "2004/2004 [==============================] - 33s 16ms/step - loss: 1.1713 - accuracy: 0.6194 - val_loss: 2.6434 - val_accuracy: 0.3283\n",
      "Epoch 60/300\n",
      "2004/2004 [==============================] - 33s 16ms/step - loss: 1.1436 - accuracy: 0.6275 - val_loss: 2.9590 - val_accuracy: 0.3343\n",
      "Epoch 61/300\n",
      "2004/2004 [==============================] - 33s 17ms/step - loss: 1.1220 - accuracy: 0.6346 - val_loss: 4.2338 - val_accuracy: 0.3255\n",
      "Epoch 62/300\n",
      "2004/2004 [==============================] - 33s 17ms/step - loss: 1.0839 - accuracy: 0.6470 - val_loss: 6.6177 - val_accuracy: 0.2941\n",
      "Epoch 63/300\n",
      "2004/2004 [==============================] - 33s 16ms/step - loss: 1.0615 - accuracy: 0.6554 - val_loss: 7.4381 - val_accuracy: 0.3250\n",
      "Epoch 64/300\n",
      "2004/2004 [==============================] - 33s 16ms/step - loss: 1.0442 - accuracy: 0.6604 - val_loss: 3.8415 - val_accuracy: 0.3131\n",
      "Epoch 65/300\n",
      "2004/2004 [==============================] - 33s 17ms/step - loss: 1.0118 - accuracy: 0.6708 - val_loss: 3.3269 - val_accuracy: 0.3268\n",
      "Epoch 66/300\n",
      "2004/2004 [==============================] - 33s 17ms/step - loss: 0.9905 - accuracy: 0.6788 - val_loss: 2.8571 - val_accuracy: 0.3283\n",
      "Epoch 67/300\n",
      "2004/2004 [==============================] - 33s 17ms/step - loss: 1.2296 - accuracy: 0.6094 - val_loss: 3.0177 - val_accuracy: 0.3205\n",
      "Epoch 68/300\n",
      "2004/2004 [==============================] - 33s 17ms/step - loss: 0.9655 - accuracy: 0.6864 - val_loss: 8.8068 - val_accuracy: 0.3234\n",
      "Epoch 69/300\n",
      "2004/2004 [==============================] - 33s 17ms/step - loss: 0.9262 - accuracy: 0.6990 - val_loss: 14.5271 - val_accuracy: 0.3134\n",
      "Epoch 70/300\n",
      "2004/2004 [==============================] - 33s 17ms/step - loss: 0.9217 - accuracy: 0.7004 - val_loss: 6.3574 - val_accuracy: 0.3236\n",
      "Epoch 71/300\n",
      "2004/2004 [==============================] - 33s 17ms/step - loss: 0.8821 - accuracy: 0.7149 - val_loss: 3.7649 - val_accuracy: 0.3217\n",
      "Epoch 72/300\n",
      "2004/2004 [==============================] - 33s 16ms/step - loss: 0.8712 - accuracy: 0.7176 - val_loss: 6.1144 - val_accuracy: 0.3169\n",
      "Epoch 73/300\n",
      "2004/2004 [==============================] - 33s 17ms/step - loss: 0.8523 - accuracy: 0.7246 - val_loss: 17.8007 - val_accuracy: 0.3203\n",
      "Epoch 74/300\n",
      "2004/2004 [==============================] - 33s 17ms/step - loss: 0.8756 - accuracy: 0.7194 - val_loss: 12.8276 - val_accuracy: 0.3195\n",
      "Epoch 75/300\n",
      "2004/2004 [==============================] - 33s 17ms/step - loss: 0.8094 - accuracy: 0.7377 - val_loss: 13.5881 - val_accuracy: 0.3191\n",
      "Epoch 76/300\n",
      "2004/2004 [==============================] - 33s 17ms/step - loss: 0.7996 - accuracy: 0.7433 - val_loss: 3.3816 - val_accuracy: 0.3167\n",
      "Epoch 77/300\n",
      "2004/2004 [==============================] - 33s 17ms/step - loss: 0.7914 - accuracy: 0.7452 - val_loss: 5.9773 - val_accuracy: 0.3178\n",
      "Epoch 78/300\n",
      "2004/2004 [==============================] - 33s 17ms/step - loss: 0.7749 - accuracy: 0.7512 - val_loss: 6.3212 - val_accuracy: 0.3058\n",
      "Epoch 79/300\n",
      "2004/2004 [==============================] - 33s 16ms/step - loss: 0.7588 - accuracy: 0.7569 - val_loss: 9.7089 - val_accuracy: 0.3058\n",
      "Epoch 80/300\n",
      "2004/2004 [==============================] - 33s 16ms/step - loss: 0.7329 - accuracy: 0.7652 - val_loss: 12.8713 - val_accuracy: 0.3132\n",
      "Epoch 81/300\n",
      "2004/2004 [==============================] - 33s 16ms/step - loss: 0.7194 - accuracy: 0.7679 - val_loss: 9.3219 - val_accuracy: 0.3133\n",
      "Epoch 82/300\n",
      "2004/2004 [==============================] - 32s 16ms/step - loss: 0.7094 - accuracy: 0.7732 - val_loss: 9.6389 - val_accuracy: 0.3233\n",
      "Epoch 83/300\n",
      "2004/2004 [==============================] - 32s 16ms/step - loss: 0.6951 - accuracy: 0.7805 - val_loss: 33.3021 - val_accuracy: 0.3058\n",
      "Epoch 84/300\n",
      "2004/2004 [==============================] - 32s 16ms/step - loss: 0.6847 - accuracy: 0.7815 - val_loss: 36.2333 - val_accuracy: 0.3194\n",
      "Epoch 85/300\n",
      "2004/2004 [==============================] - 32s 16ms/step - loss: 0.6722 - accuracy: 0.7828 - val_loss: 90.0591 - val_accuracy: 0.2984\n",
      "Epoch 86/300\n",
      "2004/2004 [==============================] - 32s 16ms/step - loss: 0.6601 - accuracy: 0.7884 - val_loss: 31.1237 - val_accuracy: 0.2998\n",
      "Epoch 87/300\n",
      "2004/2004 [==============================] - 33s 16ms/step - loss: 0.6426 - accuracy: 0.7956 - val_loss: 23.0133 - val_accuracy: 0.3120\n",
      "Epoch 88/300\n",
      "2004/2004 [==============================] - 33s 17ms/step - loss: 0.6347 - accuracy: 0.7985 - val_loss: 6.6590 - val_accuracy: 0.3021\n"
     ]
    }
   ],
   "source": [
    "# 8. 모델 학습\n",
    "early_stopping = EarlyStopping(monitor='val_accuracy', patience=50, restore_best_weights=True)\n",
    "hist=model.fit(\n",
    "    X_train, y_train,\n",
    "    epochs=300,  # 에포크 수 설정\n",
    "    batch_size=32,  # 배치 크기 설정\n",
    "    validation_data=(X_test, y_test),\n",
    "    callbacks=[early_stopping]\n",
    ")"
   ]
  },
  {
   "cell_type": "code",
   "execution_count": 11,
   "id": "8acbb151",
   "metadata": {
    "scrolled": true
   },
   "outputs": [
    {
     "data": {
      "image/png": "[encoded data removed]",
      "text/plain": [
       "<Figure size 1000x500 with 2 Axes>"
      ]
     },
     "metadata": {},
     "output_type": "display_data"
    }
   ],
   "source": [
    "import matplotlib.pyplot as plt\n",
    "fig, loss_ax = plt.subplots(figsize=(10,5))\n",
    "loss_ax.plot(hist.history['loss'], 'r', label='train loss')\n",
    "loss_ax.plot(hist.history['val_loss'], 'y', label='validation loss')\n",
    "loss_ax.set_xlabel('epoch')\n",
    "loss_ax.set_ylabel('loss')\n",
    "acc_ax = loss_ax.twinx()\n",
    "acc_ax.plot(hist.history['accuracy'], 'b', label='train accuracy')\n",
    "acc_ax.plot(hist.history['val_accuracy'], 'g', label='validation accuracy')\n",
    "acc_ax.set_ylabel('accuracy')\n",
    "loss_ax.legend(loc='center right')\n",
    "acc_ax.legend(bbox_to_anchor=(0.999, 0.7))\n",
    "plt.show()"
   ]
  },
  {
   "cell_type": "code",
   "execution_count": 12,
   "id": "780c5173",
   "metadata": {},
   "outputs": [
    {
     "name": "stdout",
     "output_type": "stream",
     "text": [
      "501/501 [==============================] - 2s 5ms/step - loss: 2.9617 - accuracy: 0.3522\n",
      "accuracy : 35.22\n"
     ]
    }
   ],
   "source": [
    "# 9. 모델 평가\n",
    "loss, accuracy = model.evaluate(X_test, y_test)\n",
    "print('accuracy : {:.2f}'.format(accuracy*100))"
   ]
  },
  {
   "cell_type": "code",
   "execution_count": 13,
   "id": "9842a91c",
   "metadata": {},
   "outputs": [
    {
     "name": "stdout",
     "output_type": "stream",
     "text": [
      "501/501 [==============================] - 2s 4ms/step\n"
     ]
    },
    {
     "ename": "ValueError",
     "evalue": "The truth value of an array with more than one element is ambiguous. Use a.any() or a.all()",
     "output_type": "error",
     "traceback": [
      "\u001b[1;31m---------------------------------------------------------------------------\u001b[0m",
      "\u001b[1;31mValueError\u001b[0m                                Traceback (most recent call last)",
      "Cell \u001b[1;32mIn[13], line 9\u001b[0m\n\u001b[0;32m      7\u001b[0m cnt \u001b[38;5;241m=\u001b[39m \u001b[38;5;241m0\u001b[39m\n\u001b[0;32m      8\u001b[0m \u001b[38;5;28;01mfor\u001b[39;00m y, h \u001b[38;5;129;01min\u001b[39;00m \u001b[38;5;28mzip\u001b[39m(y_test, yhat):\n\u001b[1;32m----> 9\u001b[0m     \u001b[38;5;28;01mif\u001b[39;00m \u001b[43my\u001b[49m\u001b[43m \u001b[49m\u001b[38;5;241;43m!=\u001b[39;49m\u001b[43m \u001b[49m\u001b[43mh\u001b[49m:\n\u001b[0;32m     10\u001b[0m         cnt \u001b[38;5;241m+\u001b[39m\u001b[38;5;241m=\u001b[39m \u001b[38;5;241m1\u001b[39m\n\u001b[0;32m     11\u001b[0m \u001b[38;5;28mprint\u001b[39m(\u001b[38;5;124m'\u001b[39m\u001b[38;5;124m예측이 틀린 갯수 : \u001b[39m\u001b[38;5;124m'\u001b[39m, cnt)\n",
      "\u001b[1;31mValueError\u001b[0m: The truth value of an array with more than one element is ambiguous. Use a.any() or a.all()"
     ]
    }
   ],
   "source": [
    "# 예측치와 실제값을 이용한 교차표\n",
    "yhat = model.predict(X_test).argmax(axis=1)  # 예측치\n",
    "# yhat = np.argmax(model.predict(X_test), axis=1)\n",
    "# display(pd.crosstab(y_test, yhat))  # 실제값, 예측치 : 결과 - 데이터프레임\n",
    "# print(confusion_matrix(y_test, yhat))  # 결과 - 넘파이배열\n",
    "\n",
    "cnt = 0\n",
    "for y, h in zip(y_test, yhat):\n",
    "    if y != h:\n",
    "        cnt += 1\n",
    "print('예측이 틀린 갯수 : ', cnt)"
   ]
  },
  {
   "cell_type": "code",
   "execution_count": null,
   "id": "ae1c485c",
   "metadata": {},
   "outputs": [],
   "source": []
  }
 ],
 "metadata": {
  "kernelspec": {
   "display_name": "Python 3 (ipykernel)",
   "language": "python",
   "name": "python3"
  },
  "language_info": {
   "codemirror_mode": {
    "name": "ipython",
    "version": 3
   },
   "file_extension": ".py",
   "mimetype": "text/x-python",
   "name": "python",
   "nbconvert_exporter": "python",
   "pygments_lexer": "ipython3",
   "version": "3.10.9"
  }
 },
 "nbformat": 4,
 "nbformat_minor": 5
}
