{
 "cells": [
  {
   "cell_type": "code",
   "execution_count": 1,
   "id": "3ae67808-af4b-471d-b3ee-735adea97509",
   "metadata": {},
   "outputs": [],
   "source": [
    "import os\n",
    "import joblib\n",
    "import numpy as np\n",
    "import pandas as pd\n",
    "import seaborn as sns\n",
    "import matplotlib.pyplot as plt\n",
    "from imblearn.over_sampling import SMOTE\n",
    "from imblearn.under_sampling import NearMiss\n",
    "from keras.utils import to_categorical\n",
    "from sklearn.preprocessing import LabelEncoder, OneHotEncoder\n",
    "from sklearn.model_selection import train_test_split\n",
    "from sklearn.tree import DecisionTreeClassifier  # 분류분석\n",
    "from sklearn.metrics import classification_report, precision_score, recall_score, f1_score, fbeta_score\n",
    "from sklearn.metrics import adjusted_rand_score, homogeneity_score, completeness_score, v_measure_score, mutual_info_score\n",
    "from sklearn.neural_network import MLPClassifier\n",
    "from sklearn.cluster import KMeans\n",
    "from sklearn.ensemble import RandomForestClassifier, AdaBoostClassifier, VotingClassifier\n",
    "from xgboost import XGBClassifier\n",
    "from lightgbm import LGBMClassifier"
   ]
  },
  {
   "cell_type": "code",
   "execution_count": 4,
   "id": "19883d37",
   "metadata": {},
   "outputs": [],
   "source": [
    "filepath=r'D:\\ai\\Downloads\\Data\\paintings\\data'"
   ]
  },
  {
   "cell_type": "markdown",
   "id": "bc79164f-7bb1-44f9-82c1-6eda781343b8",
   "metadata": {},
   "source": [
    "# data load"
   ]
  },
  {
   "cell_type": "code",
   "execution_count": 5,
   "id": "0587ba45-2468-470b-87cd-87404cc84e69",
   "metadata": {},
   "outputs": [
    {
     "ename": "FileNotFoundError",
     "evalue": "[Errno 2] No such file or directory: 'D:\\\\ai\\\\Downloads\\\\Data\\\\VGG_vectors.npy'",
     "output_type": "error",
     "traceback": [
      "\u001b[1;31m---------------------------------------------------------------------------\u001b[0m",
      "\u001b[1;31mFileNotFoundError\u001b[0m                         Traceback (most recent call last)",
      "Cell \u001b[1;32mIn[5], line 1\u001b[0m\n\u001b[1;32m----> 1\u001b[0m VGG_vectors \u001b[38;5;241m=\u001b[39m \u001b[43mnp\u001b[49m\u001b[38;5;241;43m.\u001b[39;49m\u001b[43mload\u001b[49m\u001b[43m(\u001b[49m\u001b[43mos\u001b[49m\u001b[38;5;241;43m.\u001b[39;49m\u001b[43mpath\u001b[49m\u001b[38;5;241;43m.\u001b[39;49m\u001b[43mjoin\u001b[49m\u001b[43m(\u001b[49m\u001b[43mfilepath\u001b[49m\u001b[43m,\u001b[49m\u001b[38;5;124;43m'\u001b[39;49m\u001b[38;5;124;43mVGG_vectors.npy\u001b[39;49m\u001b[38;5;124;43m'\u001b[39;49m\u001b[43m)\u001b[49m\u001b[43m)\u001b[49m\n\u001b[0;32m      2\u001b[0m VGG_vectors\u001b[38;5;241m.\u001b[39mshape\n",
      "File \u001b[1;32m~\\anaconda3\\lib\\site-packages\\numpy\\lib\\npyio.py:405\u001b[0m, in \u001b[0;36mload\u001b[1;34m(file, mmap_mode, allow_pickle, fix_imports, encoding, max_header_size)\u001b[0m\n\u001b[0;32m    403\u001b[0m     own_fid \u001b[38;5;241m=\u001b[39m \u001b[38;5;28;01mFalse\u001b[39;00m\n\u001b[0;32m    404\u001b[0m \u001b[38;5;28;01melse\u001b[39;00m:\n\u001b[1;32m--> 405\u001b[0m     fid \u001b[38;5;241m=\u001b[39m stack\u001b[38;5;241m.\u001b[39menter_context(\u001b[38;5;28;43mopen\u001b[39;49m\u001b[43m(\u001b[49m\u001b[43mos_fspath\u001b[49m\u001b[43m(\u001b[49m\u001b[43mfile\u001b[49m\u001b[43m)\u001b[49m\u001b[43m,\u001b[49m\u001b[43m \u001b[49m\u001b[38;5;124;43m\"\u001b[39;49m\u001b[38;5;124;43mrb\u001b[39;49m\u001b[38;5;124;43m\"\u001b[39;49m\u001b[43m)\u001b[49m)\n\u001b[0;32m    406\u001b[0m     own_fid \u001b[38;5;241m=\u001b[39m \u001b[38;5;28;01mTrue\u001b[39;00m\n\u001b[0;32m    408\u001b[0m \u001b[38;5;66;03m# Code to distinguish from NumPy binary files and pickles.\u001b[39;00m\n",
      "\u001b[1;31mFileNotFoundError\u001b[0m: [Errno 2] No such file or directory: 'D:\\\\ai\\\\Downloads\\\\Data\\\\VGG_vectors.npy'"
     ]
    }
   ],
   "source": [
    "VGG_vectors = np.load(os.path.join(filepath,'VGG_vectors.npy'))\n",
    "VGG_vectors.shape"
   ]
  },
  {
   "cell_type": "code",
   "execution_count": null,
   "id": "47dea60f-8c13-4c81-9ff9-837166009946",
   "metadata": {
    "scrolled": true
   },
   "outputs": [],
   "source": [
    "painting = pd.read_csv(os.path.join(filepath,'painting.csv'))\n",
    "painting.head()"
   ]
  },
  {
   "cell_type": "code",
   "execution_count": null,
   "id": "04ea5e77-010b-4f5f-b990-aaebf63f2b1f",
   "metadata": {},
   "outputs": [],
   "source": [
    "X = VGG_vectors\n",
    "y = painting['artist']"
   ]
  },
  {
   "cell_type": "code",
   "execution_count": null,
   "id": "5f834ba1",
   "metadata": {},
   "outputs": [],
   "source": [
    "# y 라벨 인코딩 (문자형 → 숫자로 변환)\n",
    "label_encoder = LabelEncoder()\n",
    "y_labels = label_encoder.fit_transform(y)  # 장르를 숫자로 변환\n",
    "\n",
    "# y 원핫 인코딩 \n",
    "onehot_encoder = OneHotEncoder(sparse=False)\n",
    "y_onehot = onehot_encoder.fit_transform(y_labels.reshape(-1, 1))\n",
    "y_labels[:5],  y_onehot[:5]"
   ]
  },
  {
   "cell_type": "code",
   "execution_count": null,
   "id": "09b2004d",
   "metadata": {
    "scrolled": true
   },
   "outputs": [],
   "source": [
    "# 장르별 데이터 개수 확인\n",
    "artist_counts = y.value_counts()\n",
    "artist_ratios = artist_counts / artist_counts.sum()  # 장르별 비율 유지\n",
    "artist_counts.head(), artist_ratios.head()"
   ]
  },
  {
   "cell_type": "code",
   "execution_count": null,
   "id": "859a50bc",
   "metadata": {},
   "outputs": [],
   "source": [
    "# 각 장르에서 샘플링할 개수 설정\n",
    "total_samples = 80000  # 사용할 총 샘플 수\n",
    "samples_per_artist = (artist_ratios * total_samples).astype(int)\n",
    "\n",
    "# 최소 10개 이상 유지\n",
    "min_samples_per_class = 10\n",
    "samples_per_artist[samples_per_artist < min_samples_per_class] = min_samples_per_class"
   ]
  },
  {
   "cell_type": "code",
   "execution_count": null,
   "id": "bbf81311",
   "metadata": {},
   "outputs": [],
   "source": [
    "# 샘플링 수행 (각 장르에서 비율 유지)\n",
    "selected_indices = []\n",
    "\n",
    "for artist, sample_count in samples_per_artist.items():\n",
    "    artist_indices = y[y == artist].index.tolist()\n",
    "    sampled_indices = np.random.choice(artist_indices, sample_count)\n",
    "    selected_indices.extend(sampled_indices)"
   ]
  },
  {
   "cell_type": "code",
   "execution_count": null,
   "id": "4dda33bd",
   "metadata": {},
   "outputs": [],
   "source": [
    "X_sampled = X[selected_indices]  # 이미지 데이터 샘플링\n",
    "y_sampled = y_onehot[selected_indices]  # 레이블 샘플링"
   ]
  },
  {
   "cell_type": "code",
   "execution_count": null,
   "id": "2e7fe068-2351-422a-91f1-a52158727dc1",
   "metadata": {},
   "outputs": [],
   "source": [
    "train_X, test_X, train_y, test_y = train_test_split(X_sampled, y_sampled, \n",
    "                                                    test_size=0.3, \n",
    "                                                    shuffle=True,  # 분할 전 데이터 섞기\n",
    "                                                    stratify=y_sampled     # 층화추출\n",
    "                                                   )\n",
    "train_X.shape, test_X.shape, train_y.shape, test_y.shape"
   ]
  },
  {
   "cell_type": "markdown",
   "id": "a7a47899-da31-42cc-9320-bccf8ca5cd5b",
   "metadata": {},
   "source": [
    "# 분류분석"
   ]
  },
  {
   "cell_type": "markdown",
   "id": "583e6bbb",
   "metadata": {},
   "source": [
    "## DecisionTreeClassifier"
   ]
  },
  {
   "cell_type": "code",
   "execution_count": null,
   "id": "c3e23689-a24b-4af8-89a2-39580cb50e07",
   "metadata": {},
   "outputs": [],
   "source": [
    "# 의사결정나무를 구현한 DecisionTreeClassifier를 통한 모형\n",
    "dt_model = DecisionTreeClassifier(random_state=1)\n",
    "dt_model = dt_model.fit(train_X, train_y)  # 머신러닝에서는 fit시 독립변수에 array\n",
    "dt_model"
   ]
  },
  {
   "cell_type": "code",
   "execution_count": null,
   "id": "e1411cd6-94ba-4524-b8ea-075b94ae92b0",
   "metadata": {},
   "outputs": [],
   "source": [
    "dt_model.score(test_X, test_y)  # accuracy 3장에서 더 많은 평가 방법 확인"
   ]
  },
  {
   "cell_type": "code",
   "execution_count": null,
   "id": "b8f43984-62cd-4553-aa64-13f8019de2b0",
   "metadata": {
    "scrolled": true
   },
   "outputs": [],
   "source": [
    "dt_pred_y = dt_model.predict(test_X)\n",
    "pd.crosstab(test_y, dt_pred_y)  # 실제값, 예측값"
   ]
  },
  {
   "cell_type": "code",
   "execution_count": null,
   "id": "a7ad0bf1-b8ea-4148-bb49-26431d46dcad",
   "metadata": {},
   "outputs": [],
   "source": [
    "# y_test는 실제 정답 (원-핫 인코딩된 경우 argmax로 변환)\n",
    "y_test_labels = test_y\n",
    "y_pred_labels = dt_pred_y  # 모델 예측값도 동일하게 변환\n",
    "\n",
    "# ✅ 상세한 성능 지표 출력\n",
    "print(\"🔹 Classification Report:\")\n",
    "print(classification_report(y_test_labels, y_pred_labels, digits=4))\n",
    "\n",
    "# ✅ 개별 지표 계산 (매크로 평균 사용)\n",
    "precision = precision_score(y_test_labels, y_pred_labels, average='macro')\n",
    "recall = recall_score(y_test_labels, y_pred_labels, average='macro')\n",
    "f1 = f1_score(y_test_labels, y_pred_labels, average='macro')\n",
    "\n",
    "print(f\"🎯 Precision: {precision:.4f}\")\n",
    "print(f\"🔄 Recall: {recall:.4f}\")\n",
    "print(f\"🔥 F1-score: {f1:.4f}\")"
   ]
  },
  {
   "cell_type": "code",
   "execution_count": null,
   "id": "eb2fe7cd-96f7-43a1-b50c-0d85b8e781b7",
   "metadata": {},
   "outputs": [],
   "source": [
    "# fbeta score의 beta=1 : f1 score\n",
    "# fbeta score의 2>=beta>1 : recall의 가중치가 높게 조정된 f1 score\n",
    "# fbeta score의 0<=beta<1 : precision의 가중치가 높게 조정된 f1 score\n",
    "print(fbeta_score(test_y, dt_pred_y, beta=0.5, average='macro'))\n",
    "print(fbeta_score(test_y, dt_pred_y, beta=1, average='macro'))\n",
    "print(fbeta_score(test_y, dt_pred_y, beta=2, average='macro'))"
   ]
  },
  {
   "cell_type": "markdown",
   "id": "9d2b0f36-717b-4b66-9edf-cce60e2b3874",
   "metadata": {},
   "source": [
    "## MLPClassifier"
   ]
  },
  {
   "cell_type": "code",
   "execution_count": null,
   "id": "4381d0af-e23d-4891-8de6-7a4fa8b03001",
   "metadata": {},
   "outputs": [],
   "source": [
    "# 다중신경망 모형\n",
    "mlp_model = MLPClassifier(hidden_layer_sizes=(38, 64, 32), max_iter=500, random_state=1)\n",
    "mlp_model = mlp_model.fit(train_X, train_y)\n",
    "mlp_model"
   ]
  },
  {
   "cell_type": "code",
   "execution_count": null,
   "id": "66c64888-f5db-4e54-a095-83be853350de",
   "metadata": {},
   "outputs": [],
   "source": [
    "mlp_model.score(test_X, test_y)"
   ]
  },
  {
   "cell_type": "code",
   "execution_count": null,
   "id": "db7232c0-02f8-444d-9124-ecbbbfabb9d6",
   "metadata": {},
   "outputs": [],
   "source": [
    "mlp_pred_y = mlp_model.predict(test_X)\n",
    "mlp_result = pd.crosstab(test_y, mlp_pred_y)\n",
    "mlp_result"
   ]
  },
  {
   "cell_type": "code",
   "execution_count": null,
   "id": "45daa95c-5ed0-4266-ac04-c7d7dde36a61",
   "metadata": {},
   "outputs": [],
   "source": [
    "# y_test는 실제 정답 (원-핫 인코딩된 경우 argmax로 변환)\n",
    "y_test_labels = test_y\n",
    "y_pred_labels = mlp_pred_y  # 모델 예측값도 동일하게 변환\n",
    "\n",
    "# ✅ 상세한 성능 지표 출력\n",
    "print(\"🔹 Classification Report:\")\n",
    "print(classification_report(y_test_labels, y_pred_labels, digits=4))\n",
    "\n",
    "# ✅ 개별 지표 계산 (매크로 평균 사용)\n",
    "precision = precision_score(y_test_labels, y_pred_labels, average='macro')\n",
    "recall = recall_score(y_test_labels, y_pred_labels, average='macro')\n",
    "f1 = f1_score(y_test_labels, y_pred_labels, average='macro')\n",
    "\n",
    "print(f\"🎯 Precision: {precision:.4f}\")\n",
    "print(f\"🔄 Recall: {recall:.4f}\")\n",
    "print(f\"🔥 F1-score: {f1:.4f}\")"
   ]
  },
  {
   "cell_type": "code",
   "execution_count": null,
   "id": "e0726bda-2ec0-4b65-a393-3d2fcb099f39",
   "metadata": {},
   "outputs": [],
   "source": [
    "# fbeta score의 beta=1 : f1 score\n",
    "# fbeta score의 2>=beta>1 : recall의 가중치가 높게 조정된 f1 score\n",
    "# fbeta score의 0<=beta<1 : precision의 가중치가 높게 조정된 f1 score\n",
    "print(fbeta_score(test_y, mlp_pred_y, beta=0.5, average='macro'))\n",
    "print(fbeta_score(test_y, mlp_pred_y, beta=1, average='macro'))\n",
    "print(fbeta_score(test_y, mlp_pred_y, beta=2, average='macro'))"
   ]
  },
  {
   "cell_type": "markdown",
   "id": "4be6176a-4ade-4790-bf9a-77df5523911a",
   "metadata": {},
   "source": [
    "# 군집분석"
   ]
  },
  {
   "cell_type": "code",
   "execution_count": null,
   "id": "cc7e5bfd-5c7d-4fc0-95c3-de76c8907f01",
   "metadata": {},
   "outputs": [],
   "source": [
    "os.environ['OMP_NUM_THREADS'] = '1'"
   ]
  },
  {
   "cell_type": "code",
   "execution_count": null,
   "id": "72695c90-c4a1-4ede-9dec-916bfbb64cc3",
   "metadata": {},
   "outputs": [],
   "source": [
    "# 그래프 저장 시 해상도 높게\n",
    "%config InlineBackend.figure_format = 'retina'\n",
    "\n",
    "# 한글설정\n",
    "# plt.rc('font', family='Malgun Gothic')  # 윈도우즈\n",
    "# plt.rcParams['font.family'] = 'Malgun Gothic'\n",
    "plt.rc('font', family='AppleGothic') # Mac 운영체제\n",
    "plt.rc('axes', unicode_minus=False)  # 축의 -(마이너스) 깨짐 방지"
   ]
  },
  {
   "cell_type": "markdown",
   "id": "8f9d05be",
   "metadata": {},
   "source": [
    "## KMeans 클러스터링"
   ]
  },
  {
   "cell_type": "code",
   "execution_count": null,
   "id": "95c224fc-7de0-4298-b4d8-3d1101f980fa",
   "metadata": {},
   "outputs": [],
   "source": [
    "len(set(y))"
   ]
  },
  {
   "cell_type": "code",
   "execution_count": null,
   "id": "c260d9d6-2d9e-4e16-9784-509b153a7c61",
   "metadata": {},
   "outputs": [],
   "source": [
    "kmeans_model = KMeans(n_clusters=len(set(y)),  # 클러스터 갯수:2개의 그룹으로 나눔\n",
    "               init='random', # random(중심초기점이 random), k-means++(멀리 떨어진 초기점)\n",
    "               n_init=5,\n",
    "               max_iter=300)  # 300번 중심점 이동\n",
    "kmeans_model.fit(X)"
   ]
  },
  {
   "cell_type": "code",
   "execution_count": null,
   "id": "94a33692-cf32-4aaa-949d-da5fa0cbc195",
   "metadata": {},
   "outputs": [],
   "source": [
    "kmeans_model.cluster_centers_  # 최종 두 클러스터의 중심점"
   ]
  },
  {
   "cell_type": "code",
   "execution_count": null,
   "id": "0d0301a3",
   "metadata": {},
   "outputs": [],
   "source": [
    "len(kmeans_model.cluster_centers_)"
   ]
  },
  {
   "cell_type": "code",
   "execution_count": null,
   "id": "8b0d6894-9c16-4050-8a0d-d12a4b138a25",
   "metadata": {},
   "outputs": [],
   "source": [
    "pred = kmeans_model.predict(X)\n",
    "print(' 예 측 값 : ', pred)\n",
    "print('modelLabel: ', kmeans_model.labels_)\n",
    "print(' 실제 y값 : ', y)"
   ]
  },
  {
   "cell_type": "code",
   "execution_count": null,
   "id": "d58d7b1f-512e-4907-afa3-0e72f54ff34e",
   "metadata": {},
   "outputs": [],
   "source": [
    "pd.crosstab(y, kmeans_model.labels_, rownames=['실제값'], colnames=['k-means값'])"
   ]
  },
  {
   "cell_type": "markdown",
   "id": "d8e645e1-6fd6-494b-b31a-496e31678d95",
   "metadata": {},
   "source": [
    "## 군집모형 성능평가"
   ]
  },
  {
   "cell_type": "code",
   "execution_count": null,
   "id": "14af976d-bc80-471a-b465-3e4673dfb643",
   "metadata": {},
   "outputs": [],
   "source": [
    "VGG_vectors = np.load(os.path.join(filepath,'VGG_vectros.npy'))\n",
    "painting = pd.read_csv(os.path.join(filepath,'painting.csv')\n",
    "\n",
    "X = VGG_vectors\n",
    "y = painting['artist']\n",
    "\n",
    "le = LabelEncoder()\n",
    "y_encoded = le.fit_transform(y)  # 문자열 라벨을 숫자로 변환"
   ]
  },
  {
   "cell_type": "code",
   "execution_count": null,
   "id": "f831045a-252e-49a7-91e8-3336c2388c84",
   "metadata": {},
   "outputs": [],
   "source": [
    "len(le.classes_)"
   ]
  },
  {
   "cell_type": "code",
   "execution_count": null,
   "id": "7fd5e5c2-68cf-48e3-a1af-a9de00c5e664",
   "metadata": {},
   "outputs": [],
   "source": [
    "model = KMeans(n_clusters=len(le.classes_), random_state=1, n_init=10)\n",
    "model.fit(X)"
   ]
  },
  {
   "cell_type": "code",
   "execution_count": null,
   "id": "31f4206b-d97a-4900-a4bd-7d5ebf35e2c5",
   "metadata": {},
   "outputs": [],
   "source": [
    "pred = model.predict(X)\n",
    "all(pred == model.labels_)"
   ]
  },
  {
   "cell_type": "code",
   "execution_count": null,
   "id": "884ffd73-b76d-4568-80de-0d874193f435",
   "metadata": {},
   "outputs": [],
   "source": [
    "# 예측된 클러스터 라벨\n",
    "pred = model.labels_\n",
    "\n",
    "# 각 클러스터에서 가장 많이 등장하는 실제 라벨 찾기\n",
    "mapping = {}\n",
    "for cluster in range(len(le.classes_)):\n",
    "    mask = (pred == cluster)\n",
    "    if np.any(mask):  # 해당 클러스터에 속한 샘플이 존재하는 경우만 실행\n",
    "        most_common_label = np.bincount(y_encoded[mask]).argmax()\n",
    "        mapping[cluster] = most_common_label\n",
    "\n",
    "# 클러스터 인덱스를 실제 라벨과 매핑\n",
    "adjusted_pred = np.vectorize(mapping.get)(pred)\n",
    "\n",
    "# 교차표 생성\n",
    "cross_tab = pd.crosstab(y_encoded, adjusted_pred, rownames=['실제값'], colnames=['예측값'])\n",
    "\n",
    "# 결과 출력\n",
    "cross_tab"
   ]
  },
  {
   "cell_type": "code",
   "execution_count": null,
   "id": "15ff03eb-85c8-4392-a427-3656e3428d20",
   "metadata": {},
   "outputs": [],
   "source": [
    "pred_str = le.inverse_transform(adjusted_pred)\n",
    "pd.crosstab(y, pred_str)"
   ]
  },
  {
   "cell_type": "markdown",
   "id": "72d73892-01c9-4d79-b0dd-8bac65917111",
   "metadata": {},
   "source": [
    "## 조정된 rand지수 외 성능평가 기준 함수"
   ]
  },
  {
   "cell_type": "code",
   "execution_count": null,
   "id": "723d6e9d-e921-4929-8211-496819ff5d63",
   "metadata": {},
   "outputs": [],
   "source": [
    "adjusted_rand_score(labels_true=y, labels_pred=pred_str)"
   ]
  },
  {
   "cell_type": "code",
   "execution_count": null,
   "id": "9d80d5ec-cfc8-418e-a0c4-f7765dc34101",
   "metadata": {},
   "outputs": [],
   "source": [
    "adjusted_rand_score(labels_true=y_encoded, labels_pred=pred)"
   ]
  },
  {
   "cell_type": "code",
   "execution_count": null,
   "id": "952537e1-4ead-4976-bad4-7320d72cb7dc",
   "metadata": {},
   "outputs": [],
   "source": [
    "homogeneity_score(y, pred_str)"
   ]
  },
  {
   "cell_type": "code",
   "execution_count": null,
   "id": "9243825a-fecf-4bd1-9f52-17313ebc73c2",
   "metadata": {},
   "outputs": [],
   "source": [
    "completeness_score(y, pred_str)"
   ]
  },
  {
   "cell_type": "code",
   "execution_count": null,
   "id": "5bd4fed4-764d-4732-a7e9-f7e3009d763d",
   "metadata": {},
   "outputs": [],
   "source": [
    "v_measure_score(y, pred_str)"
   ]
  },
  {
   "cell_type": "code",
   "execution_count": null,
   "id": "ddcc3d86-4e55-40a9-984f-37c67c0c6b77",
   "metadata": {},
   "outputs": [],
   "source": [
    "mutual_info_score(y, pred_str)"
   ]
  },
  {
   "cell_type": "markdown",
   "id": "33cf46f4-e014-43f0-a258-fa296f4bba71",
   "metadata": {},
   "source": [
    "# 앙상블모형"
   ]
  },
  {
   "cell_type": "code",
   "execution_count": null,
   "id": "82c3c03d-c8dc-4df5-9dc0-eb66611e7c07",
   "metadata": {},
   "outputs": [],
   "source": [
    "train_X.shape, train_y.shape, test_X.shape, test_y.shape"
   ]
  },
  {
   "cell_type": "code",
   "execution_count": null,
   "id": "eab01e51-08da-445d-8d20-61f104baaf30",
   "metadata": {},
   "outputs": [],
   "source": [
    "le = LabelEncoder()\n",
    "train_y = le.fit_transform(train_y)\n",
    "test_y = le.fit_transform(test_y)\n",
    "\n",
    "def model_measure(model, train_X=train_X, train_y=train_y, test_X=test_X, test_y=test_y):\n",
    "    model.fit(train_X, train_y)\n",
    "    pred = model.predict(test_X)\n",
    "    accuracy  = model.score(test_X, test_y)\n",
    "    precision = precision_score(test_y, pred, average=\"macro\")\n",
    "    recall    = recall_score(test_y, pred, average=\"macro\")\n",
    "    f1score  = f1_score(test_y, pred, average=\"macro\")\n",
    "    return '정확도:{:.3f}, 정밀도:{:.3f}, 재현율:{:.3f}, f1_score:{:.3f}'.format(accuracy, precision, recall, f1score)"
   ]
  },
  {
   "cell_type": "markdown",
   "id": "1bb556b0-9a37-4324-b4a7-df68c1f44a7d",
   "metadata": {},
   "source": [
    "# 의사결정 방식"
   ]
  },
  {
   "cell_type": "markdown",
   "id": "8ac800bc-da50-43a2-8e97-f517d1489c10",
   "metadata": {},
   "source": [
    "## 배깅 방식"
   ]
  },
  {
   "cell_type": "code",
   "execution_count": null,
   "id": "4433116a-a130-4f5b-a815-02a5c3de354b",
   "metadata": {},
   "outputs": [],
   "source": [
    "# # 배깅 알고리즘\n",
    "# from sklearn.ensemble import BaggingClassifier\n",
    "# bag = BaggingClassifier(estimator=dt_model, \n",
    "#                         n_estimators=500,         # 500그루\n",
    "#                         bootstrap=True,           # 복원추출, 중복추출 허용\n",
    "#                         bootstrap_features=False, # 모든 특성을 사용해서 학습\n",
    "#                         random_state=1)\n",
    "# bag.fit(train_X, train_y)\n",
    "# bag.score(test_X, test_y)"
   ]
  },
  {
   "cell_type": "code",
   "execution_count": null,
   "id": "0e9a3dad-78b5-4627-9d9c-ee9e7c56281a",
   "metadata": {},
   "outputs": [],
   "source": [
    "rf = RandomForestClassifier(n_estimators=100,         # 의사결정나무 100개\n",
    "                            max_features=len(set(y)), # 2개 특징으로 나눔\n",
    "                            random_state=42).fit(train_X, train_y)\n",
    "rf.score(test_X, test_y)"
   ]
  },
  {
   "cell_type": "code",
   "execution_count": null,
   "id": "d0c5b9b0-7c17-4908-9ee5-3a355797ef3a",
   "metadata": {},
   "outputs": [],
   "source": [
    "# rf_model = model_measure(RandomForestClassifier())\n",
    "# rf_model"
   ]
  },
  {
   "cell_type": "markdown",
   "id": "ab016c89-445c-4e48-82b6-a86cc49ad9c4",
   "metadata": {},
   "source": [
    "## 부스팅 방식"
   ]
  },
  {
   "cell_type": "code",
   "execution_count": null,
   "id": "1511d174-22ea-4966-a1e4-591ed6934ead",
   "metadata": {},
   "outputs": [],
   "source": [
    "xgb = model_measure(XGBClassifier())\n",
    "xgb"
   ]
  },
  {
   "cell_type": "code",
   "execution_count": null,
   "id": "183a70cb-a901-41cc-9011-abf102af1770",
   "metadata": {},
   "outputs": [],
   "source": [
    "lgb = model_measure(LGBMClassifier(force_col_wise=True))\n",
    "lgb"
   ]
  },
  {
   "cell_type": "markdown",
   "id": "e207f169-fc79-4be1-8cf3-3bfa1de4c6cc",
   "metadata": {},
   "source": [
    "## 투표를 이용한 앙상블"
   ]
  },
  {
   "cell_type": "code",
   "execution_count": null,
   "id": "bc835244-0115-4842-b347-371b4c0179b9",
   "metadata": {
    "scrolled": true
   },
   "outputs": [],
   "source": [
    "# # voting 알고리즘 - hard 방식\n",
    "# rf_model = RandomForestClassifier(n_estimators=100, # 의사결정나무 100개\n",
    "#                                   max_features=2,     # 2개 특징으로 나눔\n",
    "#                                   random_state=42)\n",
    "# xgb_model = XGBClassifier(max_depth=10,          # 트리의 최대 깊이\n",
    "#                           n_estimators=100,      # 트리 갯수\n",
    "#                           learning_rate=0.01,    # 학습률\n",
    "#                           eval_metric='logloss') # 평가지표(이진분류)\n",
    "# lgb_model = LGBMClassifier(force_col_wise=True, verbose=-1)\n",
    "# print(model_measure(rf_model))\n",
    "# print(model_measure(xgb_model))\n",
    "# print(model_measure(lgb_model))"
   ]
  },
  {
   "cell_type": "code",
   "execution_count": null,
   "id": "d426b7c4-ffea-4f41-84fd-7f87cb5ec08d",
   "metadata": {},
   "outputs": [],
   "source": [
    "# ✅ 경량화된 랜덤포레스트 모델\n",
    "rf_model = RandomForestClassifier(\n",
    "    n_estimators=50,      # 트리 개수 줄이기\n",
    "    max_depth=5,          # 트리 깊이 제한\n",
    "    max_features='sqrt',  # 최적의 특징 개수 자동 선택\n",
    "    random_state=42\n",
    ")\n",
    "\n",
    "# ✅ 경량화된 XGBoost 모델\n",
    "xgb_model = XGBClassifier(\n",
    "    max_depth=4,          # 트리 깊이 제한\n",
    "    n_estimators=50,      # 트리 개수 줄이기\n",
    "    learning_rate=0.1,    # 학습 속도 증가\n",
    "    subsample=0.8,        # 데이터 일부 샘플링\n",
    "    colsample_bytree=0.8, # 일부 특성만 사용\n",
    "    tree_method='hist',   # 히스토그램 기반 트리 (메모리 절약)\n",
    "    eval_metric='logloss',\n",
    "#     use_label_encoder=True,\n",
    "    random_state=42\n",
    ")\n",
    "\n",
    "# ✅ 경량화된 LightGBM 모델\n",
    "lgb_model = LGBMClassifier(\n",
    "    n_estimators=50,      # 트리 개수 줄이기\n",
    "    max_depth=4,          # 트리 깊이 제한\n",
    "    num_leaves=16,        # 리프 개수 줄이기\n",
    "    subsample=0.8,        # 데이터 일부 샘플링\n",
    "    colsample_bytree=0.8, # 일부 특성만 사용\n",
    "    verbose=-1,           # 불필요한 출력 제거\n",
    "    random_state=42\n",
    ")\n",
    "print(model_measure(rf_model))\n",
    "print(model_measure(xgb_model))\n",
    "print(model_measure(lgb_model))"
   ]
  },
  {
   "cell_type": "code",
   "execution_count": null,
   "id": "57a40f5f-fcad-414a-84ec-b05c960244ce",
   "metadata": {},
   "outputs": [],
   "source": [
    "voting_model_hard = VotingClassifier(estimators=[('rfm', rf_model),\n",
    "                                                 ('xgb', xgb_model),\n",
    "                                                 ('lgb', lgb_model)],\n",
    "                                     voting='hard') # voting='hard' 기본값\n",
    "voting_model_hard.fit(X_sampled, y_sampled)"
   ]
  },
  {
   "cell_type": "code",
   "execution_count": null,
   "id": "3434b339-47b2-4d89-bb1d-06d33d0e7ca2",
   "metadata": {},
   "outputs": [],
   "source": [
    "voting_model_hard.predict(test_X[0].reshape(1, -1))"
   ]
  },
  {
   "cell_type": "code",
   "execution_count": null,
   "id": "841fc6cc-51aa-4cd4-8fd7-9a947a7ad854",
   "metadata": {},
   "outputs": [],
   "source": [
    "# voting 알고리즘 - soft 방식\n",
    "voting_model_soft = VotingClassifier(estimators=[('rfm', rf_model),\n",
    "                                                 ('xgb', xgb_model),\n",
    "                                                 ('lgb', lgb_model)],\n",
    "                                     voting='soft') # voting='hard' 기본값\n",
    "voting_model_soft.fit(X_sampled, y_sampled)"
   ]
  },
  {
   "cell_type": "code",
   "execution_count": null,
   "id": "ccb244a7-f824-43de-86f6-3fb2783afa32",
   "metadata": {},
   "outputs": [],
   "source": [
    "voting_model_soft.predict(test_X[0].reshape(1, -1))"
   ]
  },
  {
   "cell_type": "code",
   "execution_count": null,
   "id": "0b01d70d-efb9-492f-81e1-e606df4ef047",
   "metadata": {},
   "outputs": [],
   "source": [
    "test_y[0]"
   ]
  },
  {
   "cell_type": "code",
   "execution_count": null,
   "id": "e82c7d79-f993-4565-abc6-79e050c20fc9",
   "metadata": {},
   "outputs": [],
   "source": [
    "inverse_test_y = le.inverse_transform(test_y)\n",
    "inverse_test_y[0]"
   ]
  },
  {
   "cell_type": "code",
   "execution_count": null,
   "id": "47316ee0-c90b-4003-9b77-e24b9989f6ae",
   "metadata": {},
   "outputs": [],
   "source": [
    "model_measure(voting_model_hard)"
   ]
  },
  {
   "cell_type": "code",
   "execution_count": null,
   "id": "584c7910-5d14-47f9-bd76-bd12cfecd995",
   "metadata": {},
   "outputs": [],
   "source": [
    "model_measure(voting_model_soft)"
   ]
  },
  {
   "cell_type": "code",
   "execution_count": null,
   "id": "c0832ef9-0450-4b1d-8bfb-3731cbc12c98",
   "metadata": {},
   "outputs": [],
   "source": [
    "# voting_model_hard의 개별 모델들 딕셔너리 형태로 반환\n",
    "voting_model_hard.named_estimators_"
   ]
  },
  {
   "cell_type": "code",
   "execution_count": null,
   "id": "9d06d40e-4f40-4df4-9dda-a2ad9bd08e53",
   "metadata": {},
   "outputs": [],
   "source": [
    "# voting_model_soft의 개별 모델들 딕셔너리 형태로 반환\n",
    "voting_model_soft.named_estimators_"
   ]
  },
  {
   "cell_type": "code",
   "execution_count": null,
   "id": "17c4e732-ca5c-48d6-9a9d-14b364ee40c3",
   "metadata": {},
   "outputs": [],
   "source": [
    "print(model_measure(voting_model_hard.named_estimators_['rfm']))  # 단일모델로 개별모델 access 가능\n",
    "print(model_measure(voting_model_hard.named_estimators_['xgb']))\n",
    "print(model_measure(voting_model_hard.named_estimators_['lgb']))"
   ]
  },
  {
   "cell_type": "code",
   "execution_count": null,
   "id": "cd4308f9-ec65-49ff-b2c5-925b20ad0cd9",
   "metadata": {},
   "outputs": [],
   "source": [
    "print(model_measure(voting_model_soft.named_estimators_['rfm']))  # 단일모델로 개별모델 access 가능\n",
    "print(model_measure(voting_model_soft.named_estimators_['xgb']))\n",
    "print(model_measure(voting_model_soft.named_estimators_['lgb']))"
   ]
  },
  {
   "cell_type": "code",
   "execution_count": null,
   "id": "30785869-c41b-445f-8b50-c3aec4f75ef3",
   "metadata": {},
   "outputs": [],
   "source": [
    "voting_model_hard.get_params()  # 모델 내의 모든 파라미터(하이퍼파라미터)"
   ]
  },
  {
   "cell_type": "code",
   "execution_count": null,
   "id": "f9fac7ec-5ab5-47d4-b78f-704cb2a98bff",
   "metadata": {},
   "outputs": [],
   "source": [
    "voting_model_soft.get_params()  # 모델 내의 모든 파라미터(하이퍼파라미터)"
   ]
  },
  {
   "cell_type": "markdown",
   "id": "2c0a1339-4b91-4a71-88e0-1cbbd8d7afbc",
   "metadata": {},
   "source": [
    "## 머신러닝 모형 저장"
   ]
  },
  {
   "cell_type": "code",
   "execution_count": null,
   "id": "7d40ffac-9757-436f-bbcf-cf8509c0a2d3",
   "metadata": {},
   "outputs": [],
   "source": [
    "# 대용량 모형일 때 : joblib 파일로 저장 (joblib 라이브러리 사용)\n",
    "print(joblib.dump(voting_model_hard, os.path.join(filepath,'voting_model_hard.joblib')))\n",
    "print(joblib.dump(voting_model_soft, os.path.join(filepath,'voting_model_soft.joblib')))"
   ]
  },
  {
   "cell_type": "code",
   "execution_count": null,
   "id": "fc72f3a4-e2df-43e4-853a-3c4011aece6f",
   "metadata": {},
   "outputs": [],
   "source": [
    "# 모델 load\n",
    "loaded_voting_model_hard = joblib.load(os.path.join(filepath,'voting_model_hard.joblib'))\n",
    "model_measure(loaded_voting_model_hard)"
   ]
  },
  {
   "cell_type": "code",
   "execution_count": null,
   "id": "2f4adb69-778e-4e60-9e05-4b31e06d954f",
   "metadata": {},
   "outputs": [],
   "source": [
    "# 모델 load\n",
    "loaded_voting_model_soft = joblib.load(os.path.join(filepath,'voting_model_soft.joblib'))\n",
    "model_measure(loaded_voting_model_soft)"
   ]
  }
 ],
 "metadata": {
  "kernelspec": {
   "display_name": "Python 3 (ipykernel)",
   "language": "python",
   "name": "python3"
  },
  "language_info": {
   "codemirror_mode": {
    "name": "ipython",
    "version": 3
   },
   "file_extension": ".py",
   "mimetype": "text/x-python",
   "name": "python",
   "nbconvert_exporter": "python",
   "pygments_lexer": "ipython3",
   "version": "3.10.9"
  },
  "toc": {
   "base_numbering": 1,
   "nav_menu": {},
   "number_sections": true,
   "sideBar": true,
   "skip_h1_title": false,
   "title_cell": "Table of Contents",
   "title_sidebar": "Contents",
   "toc_cell": false,
   "toc_position": {
    "height": "calc(100% - 180px)",
    "left": "10px",
    "top": "150px",
    "width": "182.326px"
   },
   "toc_section_display": true,
   "toc_window_display": true
  }
 },
 "nbformat": 4,
 "nbformat_minor": 5
}
