{
 "cells": [
  {
   "cell_type": "code",
   "execution_count": 2,
   "id": "28043323",
   "metadata": {},
   "outputs": [],
   "source": [
    "import numpy as np\n",
    "import os\n",
    "import tensorflow as tf\n",
    "from tensorflow.keras.applications import VGG16\n",
    "from tensorflow.keras.models import Model\n",
    "from tqdm import tqdm \n",
    "from tensorflow.keras.applications.efficientnet import preprocess_input"
   ]
  },
  {
   "cell_type": "code",
   "execution_count": 3,
   "id": "30ac108f",
   "metadata": {},
   "outputs": [
    {
     "data": {
      "text/plain": [
       "'2.10.0'"
      ]
     },
     "execution_count": 3,
     "metadata": {},
     "output_type": "execute_result"
    }
   ],
   "source": [
    "tf.__version__"
   ]
  },
  {
   "cell_type": "code",
   "execution_count": 17,
   "id": "2eb752a7",
   "metadata": {},
   "outputs": [],
   "source": [
    "filepath='../team_project/data'"
   ]
  },
  {
   "cell_type": "code",
   "execution_count": 18,
   "id": "130eff1d",
   "metadata": {},
   "outputs": [
    {
     "data": {
      "text/plain": [
       "(80158, 128, 128, 3)"
      ]
     },
     "execution_count": 18,
     "metadata": {},
     "output_type": "execute_result"
    }
   ],
   "source": [
    "painting_lst = np.load(os.path.join(filepath,'data.npy'))\n",
    "painting_lst.shape"
   ]
  },
  {
   "cell_type": "code",
   "execution_count": 23,
   "id": "47affe04",
   "metadata": {},
   "outputs": [
    {
     "name": "stderr",
     "output_type": "stream",
     "text": [
      "Extracting Features: 100%|███████████████████████████████████████████████████████████| 627/627 [04:58<00:00,  2.10it/s]\n"
     ]
    },
    {
     "name": "stdout",
     "output_type": "stream",
     "text": [
      "Final Feature Vector Shape: (80158, 512)\n"
     ]
    }
   ],
   "source": [
    "# VGG16 모델 로드 \n",
    "base_model = VGG16(weights=\"imagenet\", include_top=False, input_shape=(128, 128, 3))\n",
    "model = Model(inputs=base_model.input, outputs=tf.keras.layers.GlobalAveragePooling2D()(base_model.output))\n",
    "\n",
    "def extract_features_batch(image_batch):\n",
    "    \"\"\"이미지 배치를 받아 특징 벡터 추출\"\"\"\n",
    "    image_batch = preprocess_input(image_batch)  # EfficientNet 전처리 적용\n",
    "    features = model.predict(image_batch, verbose=0)  # 특징 벡터 추출\n",
    "    return features  # shape: (batch_size, 1280)\n",
    "\n",
    "# 데이터셋 로드 (메모리 절약을 위해 float32 변환)\n",
    "painting_lst = np.array(painting_lst, dtype=np.float32)  # float64 → float32 변환\n",
    "num_samples = painting_lst.shape[0]\n",
    "\n",
    "# 배치 단위로 특징 벡터 추출\n",
    "batch_size = 128  # 메모리 부담을 줄이기 위해 조정\n",
    "feature_list = []\n",
    "\n",
    "for i in tqdm(range(0, num_samples, batch_size), desc=\"Extracting Features\"):\n",
    "    batch = painting_lst[i:i+batch_size]  # 배치 단위로 데이터 가져오기\n",
    "    features = extract_features_batch(batch)  # 특징 벡터 추출\n",
    "    feature_list.append(features)\n",
    "\n",
    "# 모든 특징 벡터를 하나의 배열로 결합\n",
    "feature_vectors = np.vstack(feature_list)  # 최종 결과 (80158, 1280)\n",
    "\n",
    "print(\"Final Feature Vector Shape:\", feature_vectors.shape)  # (80158, 1280)"
   ]
  },
  {
   "cell_type": "code",
   "execution_count": 25,
   "id": "962b2a8c",
   "metadata": {},
   "outputs": [
    {
     "name": "stdout",
     "output_type": "stream",
     "text": [
      "모델저장완료\n"
     ]
    }
   ],
   "source": [
    "np.save(os.path.join(filepath,'VGG_vectors.npy'),feature_vectors)\n",
    "print('모델저장완료')"
   ]
  },
  {
   "cell_type": "code",
   "execution_count": null,
   "id": "20c17cba",
   "metadata": {},
   "outputs": [],
   "source": []
  }
 ],
 "metadata": {
  "kernelspec": {
   "display_name": "Python 3 (ipykernel)",
   "language": "python",
   "name": "python3"
  },
  "language_info": {
   "codemirror_mode": {
    "name": "ipython",
    "version": 3
   },
   "file_extension": ".py",
   "mimetype": "text/x-python",
   "name": "python",
   "nbconvert_exporter": "python",
   "pygments_lexer": "ipython3",
   "version": "3.10.9"
  },
  "toc": {
   "base_numbering": 1,
   "nav_menu": {},
   "number_sections": true,
   "sideBar": true,
   "skip_h1_title": false,
   "title_cell": "Table of Contents",
   "title_sidebar": "Contents",
   "toc_cell": false,
   "toc_position": {},
   "toc_section_display": true,
   "toc_window_display": false
  }
 },
 "nbformat": 4,
 "nbformat_minor": 5
}
