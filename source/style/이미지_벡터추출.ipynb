{
 "cells": [
  {
   "cell_type": "markdown",
   "id": "9e3fef28",
   "metadata": {},
   "source": [
    "# 데이터 load"
   ]
  },
  {
   "cell_type": "code",
   "execution_count": 1,
   "id": "c9125ceb",
   "metadata": {},
   "outputs": [],
   "source": [
    "import numpy as np\n",
    "import tensorflow as tf\n",
    "from tensorflow.keras.applications import EfficientNetB0\n",
    "from tensorflow.keras.applications.efficientnet import preprocess_input\n",
    "from tensorflow.keras.models import Model\n",
    "from tqdm import tqdm  # 진행률 표시\n",
    "import os"
   ]
  },
  {
   "cell_type": "code",
   "execution_count": 2,
   "id": "50d317c1",
   "metadata": {},
   "outputs": [],
   "source": [
    "filepath='../../data/'"
   ]
  },
  {
   "cell_type": "code",
   "execution_count": 3,
   "id": "3dcf8d39",
   "metadata": {},
   "outputs": [
    {
     "data": {
      "text/plain": [
       "(80158, 128, 128, 3)"
      ]
     },
     "execution_count": 3,
     "metadata": {},
     "output_type": "execute_result"
    }
   ],
   "source": [
    "painting_lst = np.load(os.path.join(filepath,'data.npy'))\n",
    "painting_lst.shape"
   ]
  },
  {
   "cell_type": "code",
   "execution_count": 4,
   "id": "20b605ce",
   "metadata": {},
   "outputs": [],
   "source": [
    "# 1️⃣ EfficientNetB0 모델 로드 (Fully Connected Layer 제외)\n",
    "base_model = EfficientNetB0(weights=\"imagenet\", include_top=False, input_shape=(128, 128, 3))\n",
    "model = Model(inputs=base_model.input, outputs=tf.keras.layers.GlobalAveragePooling2D()(base_model.output))\n",
    "\n",
    "def extract_features_batch(image_batch):\n",
    "    \"\"\"이미지 배치를 받아 특징 벡터 추출\"\"\"\n",
    "    image_batch = preprocess_input(image_batch)  # EfficientNet 전처리 적용\n",
    "    features = model.predict(image_batch, verbose=0)  # 특징 벡터 추출\n",
    "    return features  # shape: (batch_size, 1280)"
   ]
  },
  {
   "cell_type": "code",
   "execution_count": 5,
   "id": "88ecb1c7",
   "metadata": {},
   "outputs": [],
   "source": [
    "# 2️⃣ 데이터셋 로드 (메모리 절약을 위해 float32 변환)\n",
    "painting_lst = np.array(painting_lst, dtype=np.float32)  # float64 → float32 변환\n",
    "num_samples = painting_lst.shape[0]"
   ]
  },
  {
   "cell_type": "code",
   "execution_count": 6,
   "id": "222d8685",
   "metadata": {},
   "outputs": [
    {
     "name": "stderr",
     "output_type": "stream",
     "text": [
      "Extracting Features: 100%|███████████████████████████████████████████████████████████| 627/627 [00:56<00:00, 11.06it/s]\n"
     ]
    }
   ],
   "source": [
    "# 3️⃣ 배치 단위로 특징 벡터 추출\n",
    "batch_size = 128  # 메모리 부담을 줄이기 위해 조정\n",
    "feature_list = []\n",
    "\n",
    "for i in tqdm(range(0, num_samples, batch_size), desc=\"Extracting Features\"):\n",
    "    batch = painting_lst[i:i+batch_size]  # 배치 단위로 데이터 가져오기\n",
    "    features = extract_features_batch(batch)  # 특징 벡터 추출\n",
    "    feature_list.append(features)"
   ]
  },
  {
   "cell_type": "code",
   "execution_count": 7,
   "id": "b41bc36f",
   "metadata": {},
   "outputs": [
    {
     "name": "stdout",
     "output_type": "stream",
     "text": [
      "Final Feature Vector Shape: (80158, 1280)\n"
     ]
    }
   ],
   "source": [
    "# 4️⃣ 모든 특징 벡터를 하나의 배열로 결합\n",
    "feature_vectors = np.vstack(feature_list)  # 최종 결과 (80158, 1280)\n",
    "print(\"Final Feature Vector Shape:\", feature_vectors.shape)  # (80158, 1280)"
   ]
  },
  {
   "cell_type": "code",
   "execution_count": 8,
   "id": "b2d4ef79",
   "metadata": {},
   "outputs": [],
   "source": [
    "np.save(os.path.join(filepath,'EfficientNetB0_vectors.npy'),feature_vectors)"
   ]
  }
 ],
 "metadata": {
  "kernelspec": {
   "display_name": "Python 3 (ipykernel)",
   "language": "python",
   "name": "python3"
  },
  "language_info": {
   "codemirror_mode": {
    "name": "ipython",
    "version": 3
   },
   "file_extension": ".py",
   "mimetype": "text/x-python",
   "name": "python",
   "nbconvert_exporter": "python",
   "pygments_lexer": "ipython3",
   "version": "3.10.9"
  },
  "toc": {
   "base_numbering": 1,
   "nav_menu": {},
   "number_sections": true,
   "sideBar": true,
   "skip_h1_title": false,
   "title_cell": "Table of Contents",
   "title_sidebar": "Contents",
   "toc_cell": false,
   "toc_position": {},
   "toc_section_display": true,
   "toc_window_display": false
  }
 },
 "nbformat": 4,
 "nbformat_minor": 5
}
